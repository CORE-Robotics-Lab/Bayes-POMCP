{
 "cells": [
  {
   "cell_type": "code",
   "execution_count": 1,
   "id": "cf19ba8d",
   "metadata": {},
   "outputs": [
    {
     "name": "stderr",
     "output_type": "stream",
     "text": [
      "Loading required package: Matrix\n",
      "\n",
      "Loading required package: mvtnorm\n",
      "\n",
      "Loading required package: survival\n",
      "\n",
      "Loading required package: TH.data\n",
      "\n",
      "\n",
      "Attaching package: 'TH.data'\n",
      "\n",
      "\n",
      "The following object is masked from 'package:MASS':\n",
      "\n",
      "    geyser\n",
      "\n",
      "\n",
      "## FSA v0.9.4. See citation('FSA') if used in publication.\n",
      "## Run fishR() for related website and fishR('IFAR') for related book.\n",
      "\n",
      "\n",
      "Attaching package: 'FSA'\n",
      "\n",
      "\n",
      "The following object is masked from 'package:plyr':\n",
      "\n",
      "    mapvalues\n",
      "\n",
      "\n",
      "Loading required package: carData\n",
      "\n",
      "Registered S3 methods overwritten by 'car':\n",
      "  method       from\n",
      "  hist.boot    FSA \n",
      "  confint.boot FSA \n",
      "\n",
      "\n",
      "Attaching package: 'car'\n",
      "\n",
      "\n",
      "The following object is masked from 'package:FSA':\n",
      "\n",
      "    bootCase\n",
      "\n",
      "\n",
      "Warning message in checkMatrixPackageVersion():\n",
      "\"Package version inconsistency detected.\n",
      "TMB was built with Matrix version 1.5.4\n",
      "Current Matrix version is 1.5.3\n",
      "Please re-install 'TMB' from source using install.packages('TMB', type = 'source') or ask CRAN for a binary version of 'TMB' matching CRAN's 'Matrix' package\"\n",
      "Warning message in checkDepPackageVersion(dep_pkg = \"TMB\"):\n",
      "\"Package version inconsistency detected.\n",
      "glmmTMB was built with TMB version 1.9.3\n",
      "Current TMB version is 1.9.4\n",
      "Please re-install glmmTMB from source or restore original 'TMB' package (see '?reinstalling' for more information)\"\n"
     ]
    }
   ],
   "source": [
    "library(lme4)\n",
    "library(MASS)\n",
    "library(plyr) \n",
    "library(knitr)\n",
    "library(multcomp)\n",
    "library(FSA)\n",
    "library(car)\n",
    "library(multcomp)\n",
    "library(PMCMRplus)\n",
    "# library(PMCMR)\n",
    "library(rcompanion)\n",
    "library(glmmTMB)"
   ]
  },
  {
   "cell_type": "code",
   "execution_count": 2,
   "id": "f273c6cb",
   "metadata": {},
   "outputs": [],
   "source": [
    "file_path = '8_24_data_analysis.csv'\n",
    "data <- read.csv(file_path)"
   ]
  },
  {
   "cell_type": "code",
   "execution_count": 3,
   "id": "1ca67dc2",
   "metadata": {},
   "outputs": [],
   "source": [
    "print.model.summary <- function(model){\n",
    "    print('***********Coefficients of model*******************')\n",
    "    print(summary(model)$coef)\n",
    "    print('***************************************************')\n",
    "}"
   ]
  },
  {
   "cell_type": "code",
   "execution_count": 4,
   "id": "68ee4ea1",
   "metadata": {},
   "outputs": [],
   "source": [
    "print.anova_stats <- function(model, data, p_val){\n",
    "    stats = anova(model)\n",
    "    df_total <- length(data$id)\n",
    "    df_vec <- stats$npar\n",
    "    print(stats)\n",
    "    f_vec <- stats$\"F value\"\n",
    "    for (i in 1:length(df_vec)) {\n",
    "      p <- pf(f_vec[i], df_vec[i], df_total-df_vec[i], lower.tail = FALSE, log.p = FALSE)\n",
    "      if(p < p_val){\n",
    "        (message(rownames(stats)[i],\":  F(\",df_vec[i],\",\",df_total,\")=\",f_vec[i],\"     p = \",p))\n",
    "          }\n",
    "\n",
    "    }\n",
    "}"
   ]
  },
  {
   "cell_type": "code",
   "execution_count": 5,
   "id": "af0c0837",
   "metadata": {},
   "outputs": [],
   "source": [
    "#+++++++++++++++++++++++++\n",
    "# Function to calculate the mean and the standard deviation\n",
    "  # for each group\n",
    "#+++++++++++++++++++++++++\n",
    "# data : a data frame\n",
    "# varname : the name of a column containing the variable\n",
    "  #to be summariezed\n",
    "# groupnames : vector of column names to be used as\n",
    "  # grouping variables\n",
    "data_summary <- function(data, varname, groupnames){\n",
    "  require(plyr)\n",
    "  summary_func <- function(x, col){\n",
    "    c(mean = mean(x[[col]], na.rm=TRUE),\n",
    "      sd = sd(x[[col]], na.rm=TRUE)/sqrt(length(data)))\n",
    "  }\n",
    "  data_sum<-ddply(data, groupnames, .fun=summary_func,\n",
    "                  varname)\n",
    "  data_sum <- rename(data_sum, c(\"mean\" = varname))\n",
    " return(data_sum)\n",
    "}"
   ]
  },
  {
   "cell_type": "markdown",
   "id": "57fe150a",
   "metadata": {},
   "source": [
    "## Performance"
   ]
  },
  {
   "cell_type": "markdown",
   "id": "feae0030",
   "metadata": {},
   "source": [
    "### 1. Score or Total Reward"
   ]
  },
  {
   "cell_type": "code",
   "execution_count": 6,
   "id": "3dc1285b",
   "metadata": {},
   "outputs": [
    {
     "data": {
      "text/plain": [
       "\n",
       "\tShapiro-Wilk normality test\n",
       "\n",
       "data:  residuals(m)\n",
       "W = 0.98238, p-value = 0.05183\n"
      ]
     },
     "metadata": {},
     "output_type": "display_data"
    },
    {
     "data": {
      "text/html": [
       "<table class=\"dataframe\">\n",
       "<caption>A anova: 2 × 3</caption>\n",
       "<thead>\n",
       "\t<tr><th></th><th scope=col>Df</th><th scope=col>F value</th><th scope=col>Pr(&gt;F)</th></tr>\n",
       "\t<tr><th></th><th scope=col>&lt;int&gt;</th><th scope=col>&lt;dbl&gt;</th><th scope=col>&lt;dbl&gt;</th></tr>\n",
       "</thead>\n",
       "<tbody>\n",
       "\t<tr><th scope=row>group</th><td>  5</td><td>12.48147</td><td>4.535702e-10</td></tr>\n",
       "\t<tr><th scope=row> </th><td>144</td><td>      NA</td><td>          NA</td></tr>\n",
       "</tbody>\n",
       "</table>\n"
      ],
      "text/latex": [
       "A anova: 2 × 3\n",
       "\\begin{tabular}{r|lll}\n",
       "  & Df & F value & Pr(>F)\\\\\n",
       "  & <int> & <dbl> & <dbl>\\\\\n",
       "\\hline\n",
       "\tgroup &   5 & 12.48147 & 4.535702e-10\\\\\n",
       "\t  & 144 &       NA &           NA\\\\\n",
       "\\end{tabular}\n"
      ],
      "text/markdown": [
       "\n",
       "A anova: 2 × 3\n",
       "\n",
       "| <!--/--> | Df &lt;int&gt; | F value &lt;dbl&gt; | Pr(&gt;F) &lt;dbl&gt; |\n",
       "|---|---|---|---|\n",
       "| group |   5 | 12.48147 | 4.535702e-10 |\n",
       "| <!----> | 144 |       NA |           NA |\n",
       "\n"
      ],
      "text/plain": [
       "      Df  F value  Pr(>F)      \n",
       "group   5 12.48147 4.535702e-10\n",
       "      144       NA           NA"
      ]
     },
     "metadata": {},
     "output_type": "display_data"
    },
    {
     "name": "stdout",
     "output_type": "stream",
     "text": [
      "Analysis of Variance Table\n",
      "                       npar Sum Sq Mean Sq  F value\n",
      "factor(data$condition)    2 317269  158634 245.9917\n",
      "data$round                1    173     173   0.2680\n",
      "factor(data$gender)       2   3900    1950   3.0238\n",
      "data$age                  1   1703    1703   2.6401\n",
      "data$experience           1     97      97   0.1503\n",
      "data$extraversion         1   1150    1150   1.7838\n",
      "data$agreeableness        1    143     143   0.2221\n",
      "data$conscientiousness    1    193     193   0.2992\n",
      "data$neuroticism          1      4       4   0.0061\n",
      "data$intellect            1     97      97   0.1499\n"
     ]
    },
    {
     "name": "stderr",
     "output_type": "stream",
     "text": [
      "factor(data$condition):  F(2,150)=245.991664953917     p = 8.76770580686296e-48\n",
      "\n"
     ]
    }
   ],
   "source": [
    "# rANOVA fails test assuptions (homoscedasticity)\n",
    "m <- lmer(score ~ factor(data$condition) + data$round \n",
    "          + factor(data$gender) + data$age + data$experience\n",
    "          + data$extraversion + data$agreeableness + data$conscientiousness + data$neuroticism + data$intellect \n",
    "          + (1|data$id), data)\n",
    "\n",
    "# # Test for model assumptions\n",
    "shapiro.test(residuals(m))  # p value should be greater than 0.05 to satisfy normality assumptions\n",
    "leveneTest(data$score ~ factor(data$condition) * factor(data$round))  # p value should be greater than 0.05 to satisfy homoscedasticity assumptions (only use categorical variables)\n",
    "\n",
    "# print(Anova(m))\n",
    "print.anova_stats(m, data, 0.05)"
   ]
  },
  {
   "cell_type": "code",
   "execution_count": 7,
   "id": "60c69222",
   "metadata": {},
   "outputs": [
    {
     "data": {
      "text/plain": [
       "\n",
       "\tKruskal-Wallis rank sum test\n",
       "\n",
       "data:  data$score by factor(data$condition)\n",
       "Kruskal-Wallis chi-squared = 109.9, df = 2, p-value < 2.2e-16\n"
      ]
     },
     "metadata": {},
     "output_type": "display_data"
    }
   ],
   "source": [
    "kruskal.test(data$score ~ factor(data$condition))"
   ]
  },
  {
   "cell_type": "code",
   "execution_count": 8,
   "id": "2894f7a9",
   "metadata": {},
   "outputs": [
    {
     "name": "stderr",
     "output_type": "stream",
     "text": [
      "Dunn (1964) Kruskal-Wallis multiple comparison\n",
      "\n",
      "  p-values adjusted with the Holm method.\n",
      "\n",
      "\n"
     ]
    },
    {
     "data": {
      "text/plain": [
       "           Comparison          Z      P.unadj        P.adj\n",
       "1 Heuristic - Inverse   5.593690 2.222934e-08 4.445868e-08\n",
       "2   Heuristic - POMCP  -4.881515 1.052741e-06 1.052741e-06\n",
       "3     Inverse - POMCP -10.475205 1.122942e-25 3.368827e-25"
      ]
     },
     "metadata": {},
     "output_type": "display_data"
    }
   ],
   "source": [
    "dunnTest(data$score, factor(data$condition))"
   ]
  },
  {
   "cell_type": "code",
   "execution_count": 9,
   "id": "74fe674b",
   "metadata": {},
   "outputs": [
    {
     "name": "stdout",
     "output_type": "stream",
     "text": [
      "[1] 109.899\n",
      "[1] 0.7375771\n"
     ]
    }
   ],
   "source": [
    "Hadj <- unname(kruskal.test(data$score ~ factor(data$condition))$statistic)\n",
    "n <- sum(table(data$score, factor(data$condition)))\n",
    "e2 <- Hadj*(n+1)/(n^2-1)\n",
    "print(Hadj)  # H-value (test statistic => chi-squared)\n",
    "print(e2)  # Effect Size"
   ]
  },
  {
   "cell_type": "markdown",
   "id": "7b4dd3e6",
   "metadata": {},
   "source": [
    "### 2. Extra Steps"
   ]
  },
  {
   "cell_type": "code",
   "execution_count": 10,
   "id": "f661a350",
   "metadata": {},
   "outputs": [
    {
     "data": {
      "text/plain": [
       "\n",
       "\tKruskal-Wallis rank sum test\n",
       "\n",
       "data:  data$extra_step by factor(data$condition)\n",
       "Kruskal-Wallis chi-squared = 92.198, df = 2, p-value < 2.2e-16\n"
      ]
     },
     "metadata": {},
     "output_type": "display_data"
    },
    {
     "data": {
      "text/plain": [
       "\n",
       "\tKruskal-Wallis rank sum test\n",
       "\n",
       "data:  data$extra_step by factor(data$map)\n",
       "Kruskal-Wallis chi-squared = 22.467, df = 5, p-value = 0.0004266\n"
      ]
     },
     "metadata": {},
     "output_type": "display_data"
    },
    {
     "data": {
      "text/plain": [
       "\n",
       "\tKruskal-Wallis rank sum test\n",
       "\n",
       "data:  data$extra_step by data$condition_n_map\n",
       "Kruskal-Wallis chi-squared = 116.86, df = 17, p-value < 2.2e-16\n"
      ]
     },
     "metadata": {},
     "output_type": "display_data"
    }
   ],
   "source": [
    "kruskal.test(data$extra_step ~ factor(data$condition))\n",
    "kruskal.test(data$extra_step ~ factor(data$map))\n",
    "kruskal.test(data$extra_step ~ data$condition_n_map)"
   ]
  },
  {
   "cell_type": "code",
   "execution_count": 11,
   "id": "e5740892",
   "metadata": {},
   "outputs": [
    {
     "name": "stderr",
     "output_type": "stream",
     "text": [
      "Dunn (1964) Kruskal-Wallis multiple comparison\n",
      "\n",
      "  p-values adjusted with the Holm method.\n",
      "\n",
      "\n"
     ]
    },
    {
     "data": {
      "text/plain": [
       "           Comparison         Z      P.unadj        P.adj\n",
       "1 Heuristic - Inverse -4.306995 1.654872e-05 1.654872e-05\n",
       "2   Heuristic - POMCP  5.278576 1.301918e-07 2.603835e-07\n",
       "3     Inverse - POMCP  9.585571 9.194757e-22 2.758427e-21"
      ]
     },
     "metadata": {},
     "output_type": "display_data"
    }
   ],
   "source": [
    "dunnTest(data$extra_step, factor(data$condition))"
   ]
  },
  {
   "cell_type": "markdown",
   "id": "a97194a8",
   "metadata": {},
   "source": [
    "### 3. Falling Number"
   ]
  },
  {
   "cell_type": "code",
   "execution_count": 12,
   "id": "eb0f6ecb",
   "metadata": {},
   "outputs": [
    {
     "data": {
      "text/plain": [
       "\n",
       "\tKruskal-Wallis rank sum test\n",
       "\n",
       "data:  data$falling by factor(data$condition)\n",
       "Kruskal-Wallis chi-squared = 114.07, df = 2, p-value < 2.2e-16\n"
      ]
     },
     "metadata": {},
     "output_type": "display_data"
    },
    {
     "data": {
      "text/plain": [
       "\n",
       "\tKruskal-Wallis rank sum test\n",
       "\n",
       "data:  data$falling by data$round\n",
       "Kruskal-Wallis chi-squared = 0.011877, df = 1, p-value = 0.9132\n"
      ]
     },
     "metadata": {},
     "output_type": "display_data"
    },
    {
     "data": {
      "text/plain": [
       "\n",
       "\tKruskal-Wallis rank sum test\n",
       "\n",
       "data:  data$falling by data$condition_n_round\n",
       "Kruskal-Wallis chi-squared = 114.09, df = 5, p-value < 2.2e-16\n"
      ]
     },
     "metadata": {},
     "output_type": "display_data"
    }
   ],
   "source": [
    "kruskal.test(data$falling ~ factor(data$condition)) \n",
    "kruskal.test(data$falling ~ data$round)\n",
    "kruskal.test(data$falling ~ data$condition_n_round)"
   ]
  },
  {
   "cell_type": "code",
   "execution_count": 13,
   "id": "feed6731",
   "metadata": {},
   "outputs": [
    {
     "name": "stderr",
     "output_type": "stream",
     "text": [
      "Dunn (1964) Kruskal-Wallis multiple comparison\n",
      "\n",
      "  p-values adjusted with the Holm method.\n",
      "\n",
      "\n"
     ]
    },
    {
     "data": {
      "text/plain": [
       "           Comparison         Z      P.unadj        P.adj\n",
       "1 Heuristic - Inverse -5.613110 1.987226e-08 3.974451e-08\n",
       "2   Heuristic - POMCP  5.062524 4.137411e-07 4.137411e-07\n",
       "3     Inverse - POMCP 10.675634 1.323508e-26 3.970525e-26"
      ]
     },
     "metadata": {},
     "output_type": "display_data"
    }
   ],
   "source": [
    "dunnTest(data$falling, factor(data$condition))"
   ]
  },
  {
   "cell_type": "markdown",
   "id": "6a2d081b",
   "metadata": {},
   "source": [
    "### 4. Detection Number"
   ]
  },
  {
   "cell_type": "code",
   "execution_count": 14,
   "id": "eb2abe37",
   "metadata": {},
   "outputs": [
    {
     "data": {
      "text/plain": [
       "\n",
       "\tKruskal-Wallis rank sum test\n",
       "\n",
       "data:  data$detection by factor(data$condition)\n",
       "Kruskal-Wallis chi-squared = 10.668, df = 2, p-value = 0.004824\n"
      ]
     },
     "metadata": {},
     "output_type": "display_data"
    },
    {
     "data": {
      "text/plain": [
       "\n",
       "\tKruskal-Wallis rank sum test\n",
       "\n",
       "data:  data$detection by data$round\n",
       "Kruskal-Wallis chi-squared = 0.011302, df = 1, p-value = 0.9153\n"
      ]
     },
     "metadata": {},
     "output_type": "display_data"
    },
    {
     "data": {
      "text/plain": [
       "\n",
       "\tKruskal-Wallis rank sum test\n",
       "\n",
       "data:  data$detection by data$condition_n_round\n",
       "Kruskal-Wallis chi-squared = 11.008, df = 5, p-value = 0.05121\n"
      ]
     },
     "metadata": {},
     "output_type": "display_data"
    }
   ],
   "source": [
    "kruskal.test(data$detection ~ factor(data$condition)) \n",
    "kruskal.test(data$detection ~ data$round)\n",
    "kruskal.test(data$detection ~ data$condition_n_round)"
   ]
  },
  {
   "cell_type": "code",
   "execution_count": 15,
   "id": "9d5160d3",
   "metadata": {},
   "outputs": [
    {
     "name": "stderr",
     "output_type": "stream",
     "text": [
      "Dunn (1964) Kruskal-Wallis multiple comparison\n",
      "\n",
      "  p-values adjusted with the Holm method.\n",
      "\n",
      "\n"
     ]
    },
    {
     "data": {
      "text/plain": [
       "           Comparison         Z     P.unadj       P.adj\n",
       "1 Heuristic - Inverse 0.3242317 0.745762656 0.745762656\n",
       "2   Heuristic - POMCP 2.9768040 0.002912701 0.008738103\n",
       "3     Inverse - POMCP 2.6525724 0.007988100 0.015976200"
      ]
     },
     "metadata": {},
     "output_type": "display_data"
    }
   ],
   "source": [
    "dunnTest(data$detection, factor(data$condition))"
   ]
  },
  {
   "cell_type": "markdown",
   "id": "3c420fb7",
   "metadata": {},
   "source": [
    "### 5. Interruption Number"
   ]
  },
  {
   "cell_type": "code",
   "execution_count": 16,
   "id": "1f95f42c",
   "metadata": {},
   "outputs": [
    {
     "data": {
      "text/plain": [
       "\n",
       "\tKruskal-Wallis rank sum test\n",
       "\n",
       "data:  data$interrupt_fog by factor(data$condition)\n",
       "Kruskal-Wallis chi-squared = 7.7432, df = 2, p-value = 0.02082\n"
      ]
     },
     "metadata": {},
     "output_type": "display_data"
    },
    {
     "data": {
      "text/plain": [
       "\n",
       "\tKruskal-Wallis rank sum test\n",
       "\n",
       "data:  data$interrupt_no_fog by factor(data$condition)\n",
       "Kruskal-Wallis chi-squared = 24.781, df = 2, p-value = 4.158e-06\n"
      ]
     },
     "metadata": {},
     "output_type": "display_data"
    },
    {
     "data": {
      "text/plain": [
       "\n",
       "\tKruskal-Wallis rank sum test\n",
       "\n",
       "data:  data$slippery_interrupt_no_fog by factor(data$condition)\n",
       "Kruskal-Wallis chi-squared = 56.412, df = 2, p-value = 5.627e-13\n"
      ]
     },
     "metadata": {},
     "output_type": "display_data"
    },
    {
     "data": {
      "text/plain": [
       "\n",
       "\tKruskal-Wallis rank sum test\n",
       "\n",
       "data:  data$slippery_interrupt_fog by factor(data$condition)\n",
       "Kruskal-Wallis chi-squared = 101.8, df = 2, p-value < 2.2e-16\n"
      ]
     },
     "metadata": {},
     "output_type": "display_data"
    }
   ],
   "source": [
    "kruskal.test(data$interrupt_fog ~ factor(data$condition))\n",
    "kruskal.test(data$interrupt_no_fog ~ factor(data$condition))\n",
    "kruskal.test(data$slippery_interrupt_no_fog ~ factor(data$condition))\n",
    "kruskal.test(data$slippery_interrupt_fog ~ factor(data$condition))"
   ]
  },
  {
   "cell_type": "markdown",
   "id": "99e598d6",
   "metadata": {},
   "source": [
    "## Subjective Metrics"
   ]
  },
  {
   "cell_type": "markdown",
   "id": "407fcfae",
   "metadata": {},
   "source": [
    "### 1. User Preference  -> TODO"
   ]
  },
  {
   "cell_type": "code",
   "execution_count": 17,
   "id": "becdbb2b",
   "metadata": {},
   "outputs": [],
   "source": [
    "rank_data <- read.csv(\"rank_data_user_study_2.csv\")"
   ]
  },
  {
   "cell_type": "code",
   "execution_count": 18,
   "id": "e2bb6b58",
   "metadata": {},
   "outputs": [
    {
     "data": {
      "text/plain": [
       "\n",
       "\tKruskal-Wallis rank sum test\n",
       "\n",
       "data:  rank_data$rank by factor(rank_data$condition)\n",
       "Kruskal-Wallis chi-squared = 45.405, df = 2, p-value = 1.382e-10\n"
      ]
     },
     "metadata": {},
     "output_type": "display_data"
    }
   ],
   "source": [
    "kruskal.test(rank_data$rank ~ factor(rank_data$condition)) "
   ]
  },
  {
   "cell_type": "code",
   "execution_count": 19,
   "id": "a208bbcf",
   "metadata": {},
   "outputs": [
    {
     "name": "stderr",
     "output_type": "stream",
     "text": [
      "Dunn (1964) Kruskal-Wallis multiple comparison\n",
      "\n",
      "  p-values adjusted with the Holm method.\n",
      "\n",
      "\n"
     ]
    },
    {
     "data": {
      "text/plain": [
       "           Comparison         Z      P.unadj        P.adj\n",
       "1 heuristic - inverse  4.370858 1.237593e-05 2.475185e-05\n",
       "2   heuristic - POMCP -2.255927 2.407522e-02 2.407522e-02\n",
       "3     inverse - POMCP -6.626785 3.430775e-11 1.029232e-10"
      ]
     },
     "metadata": {},
     "output_type": "display_data"
    }
   ],
   "source": [
    "dunnTest(rank_data$rank, factor(rank_data$condition))"
   ]
  },
  {
   "cell_type": "code",
   "execution_count": 20,
   "id": "dba337e7",
   "metadata": {},
   "outputs": [
    {
     "name": "stdout",
     "output_type": "stream",
     "text": [
      "[1] 45.40525\n",
      "[1] 0.5279681\n"
     ]
    }
   ],
   "source": [
    "Hadj <- unname(kruskal.test(rank_data$rank ~ factor(rank_data$condition_n_explanation))$statistic)\n",
    "n <- sum(table(rank_data$rank, factor(rank_data$condition_n_explanation)))\n",
    "e2 <- Hadj*(n+1)/(n^2-1)\n",
    "print(Hadj)  # H-value (test statistic => chi-squared)\n",
    "print(e2)  # Effect Size"
   ]
  },
  {
   "cell_type": "markdown",
   "id": "fe909174",
   "metadata": {},
   "source": [
    "### 2. Trust"
   ]
  },
  {
   "cell_type": "code",
   "execution_count": 21,
   "id": "9940acb6",
   "metadata": {},
   "outputs": [
    {
     "data": {
      "text/plain": [
       "\n",
       "\tShapiro-Wilk normality test\n",
       "\n",
       "data:  residuals(m)\n",
       "W = 0.99505, p-value = 0.8945\n"
      ]
     },
     "metadata": {},
     "output_type": "display_data"
    },
    {
     "data": {
      "text/html": [
       "<table class=\"dataframe\">\n",
       "<caption>A anova: 2 × 3</caption>\n",
       "<thead>\n",
       "\t<tr><th></th><th scope=col>Df</th><th scope=col>F value</th><th scope=col>Pr(&gt;F)</th></tr>\n",
       "\t<tr><th></th><th scope=col>&lt;int&gt;</th><th scope=col>&lt;dbl&gt;</th><th scope=col>&lt;dbl&gt;</th></tr>\n",
       "</thead>\n",
       "<tbody>\n",
       "\t<tr><th scope=row>group</th><td>  2</td><td>0.7831285</td><td>0.4588711</td></tr>\n",
       "\t<tr><th scope=row> </th><td>147</td><td>       NA</td><td>       NA</td></tr>\n",
       "</tbody>\n",
       "</table>\n"
      ],
      "text/latex": [
       "A anova: 2 × 3\n",
       "\\begin{tabular}{r|lll}\n",
       "  & Df & F value & Pr(>F)\\\\\n",
       "  & <int> & <dbl> & <dbl>\\\\\n",
       "\\hline\n",
       "\tgroup &   2 & 0.7831285 & 0.4588711\\\\\n",
       "\t  & 147 &        NA &        NA\\\\\n",
       "\\end{tabular}\n"
      ],
      "text/markdown": [
       "\n",
       "A anova: 2 × 3\n",
       "\n",
       "| <!--/--> | Df &lt;int&gt; | F value &lt;dbl&gt; | Pr(&gt;F) &lt;dbl&gt; |\n",
       "|---|---|---|---|\n",
       "| group |   2 | 0.7831285 | 0.4588711 |\n",
       "| <!----> | 147 |        NA |        NA |\n",
       "\n"
      ],
      "text/plain": [
       "      Df  F value   Pr(>F)   \n",
       "group   2 0.7831285 0.4588711\n",
       "      147        NA        NA"
      ]
     },
     "metadata": {},
     "output_type": "display_data"
    },
    {
     "name": "stdout",
     "output_type": "stream",
     "text": [
      "Analysis of Variance Table\n",
      "                  npar Sum Sq Mean Sq F value\n",
      "factor(condition)    2 979.89  489.95 70.7864\n",
      "extra_step           1 145.41  145.41 21.0090\n",
      "interrupt_fog        1  73.24   73.24 10.5821\n",
      "interrupt_no_fog     1  73.41   73.41 10.6064\n",
      "detection            1   5.95    5.95  0.8603\n",
      "score                1   0.64    0.64  0.0925\n",
      "falling              1   1.22    1.22  0.1765\n"
     ]
    },
    {
     "name": "stderr",
     "output_type": "stream",
     "text": [
      "factor(condition):  F(2,150)=70.7863871926483     p = 2.68716994573963e-22\n",
      "\n",
      "extra_step:  F(1,150)=21.0090145338664     p = 9.6032930930485e-06\n",
      "\n",
      "interrupt_fog:  F(1,150)=10.5821491287885     p = 0.00141264525421937\n",
      "\n",
      "interrupt_no_fog:  F(1,150)=10.6063811085248     p = 0.00139547756583688\n",
      "\n"
     ]
    }
   ],
   "source": [
    "# ANOVA Models\n",
    "m <- lmer(trust ~ factor(condition) \n",
    "          + extra_step \n",
    "          + interrupt_fog \n",
    "          + interrupt_no_fog \n",
    "          + detection \n",
    "          + score\n",
    "          + falling \n",
    "          + (1|data$id), data)\n",
    "\n",
    "# # Test for model assumptions\n",
    "shapiro.test(residuals(m))  # p value should be greater than 0.05 to satisfy normality assumptions\n",
    "leveneTest(data$trust ~ factor(data$condition))  # p value should be greater than 0.05 to satisfy homoscedasticity assumptions (only use categorical variables)\n",
    "\n",
    "print.anova_stats(m, data, 0.05)"
   ]
  },
  {
   "cell_type": "code",
   "execution_count": 22,
   "id": "3ad28f53",
   "metadata": {},
   "outputs": [
    {
     "data": {
      "text/plain": [
       "\n",
       "\tShapiro-Wilk normality test\n",
       "\n",
       "data:  residuals(m.full)\n",
       "W = 0.99289, p-value = 0.6668\n"
      ]
     },
     "metadata": {},
     "output_type": "display_data"
    },
    {
     "name": "stdout",
     "output_type": "stream",
     "text": [
      "Levene's Test for Homogeneity of Variance (center = median)\n",
      "      Df F value Pr(>F)\n",
      "group 75  0.7203 0.9205\n",
      "      74               \n"
     ]
    }
   ],
   "source": [
    "m.null <- lmer(trust ~ (1|data$id), data = data)  \n",
    "m.full <- lmer(trust ~ factor(gender) + age + experience\n",
    "          + extraversion\n",
    "               + agreeableness\n",
    "               + conscientiousness\n",
    "               + neuroticism\n",
    "          + intellect \n",
    "          + interaction_attitude\n",
    "               + social_influence_attitude\n",
    "               + emotion_attitude \n",
    "          + factor(condition)\n",
    "          + round\n",
    "          + factor(condition) * round\n",
    "          + extra_step \n",
    "          + interrupt_fog \n",
    "          + interrupt_no_fog \n",
    "          + slippery_interrupt_fog \n",
    "          + slippery_interrupt_no_fog\n",
    "#           + longer_interrupt_fog \n",
    "#           + longer_interrupt_no_fog\n",
    "          + detection \n",
    "          + score\n",
    "          + falling\n",
    "          + factor(map)\n",
    "          + factor(condition) * factor(map)\n",
    "          + (1|id)\n",
    "        , data = data)  \n",
    "shapiro.test(residuals(m.full))  # p value should be greater than 0.05 to satisfy normality assumptions\n",
    "print(leveneTest(data$trust ~ factor(data$condition) * factor(data$map)* factor(data$gender)*factor(data$round)))\n",
    "# step.model<- step(m.full)\n",
    "# print(step.model)\n",
    "# AIC(lmer(trust ~ age + social_influence_attitude + factor(condition) + longer_interrupt_fog + longer_interrupt_no_fog + score + (1 | id),data=data))\n",
    "# AIC(lmer(trust ~ age + social_influence_attitude + factor(condition) + interrupt_fog + interrupt_no_fog + (1 | id),data=data))"
   ]
  },
  {
   "cell_type": "code",
   "execution_count": 23,
   "id": "1fddedad",
   "metadata": {},
   "outputs": [
    {
     "name": "stdout",
     "output_type": "stream",
     "text": [
      "Analysis of Variance Table\n",
      "                          npar Sum Sq Mean Sq F value\n",
      "age                          1  35.84   35.84  5.2875\n",
      "social_influence_attitude    1  41.00   41.00  6.0482\n",
      "factor(condition)            2 979.89  489.95 72.2816\n",
      "interrupt_fog                1 159.55  159.55 23.5377\n",
      "interrupt_no_fog             1 105.23  105.23 15.5245\n"
     ]
    },
    {
     "name": "stderr",
     "output_type": "stream",
     "text": [
      "age:  F(1,150)=5.28745410485787     p = 0.0228687873441123\n",
      "\n",
      "social_influence_attitude:  F(1,150)=6.04815619076246     p = 0.0150651533930515\n",
      "\n",
      "factor(condition):  F(2,150)=72.281630010508     p = 1.25632709042779e-22\n",
      "\n",
      "interrupt_fog:  F(1,150)=23.5376872119746     p = 3.05544281482474e-06\n",
      "\n",
      "interrupt_no_fog:  F(1,150)=15.5244810661451     p = 0.00012479675683519\n",
      "\n"
     ]
    },
    {
     "data": {
      "text/plain": [
       "\n",
       "\t Simultaneous Tests for General Linear Hypotheses\n",
       "\n",
       "Multiple Comparisons of Means: Tukey Contrasts\n",
       "\n",
       "\n",
       "Fit: lmer(formula = trust ~ age + social_influence_attitude + factor(condition) + \n",
       "    interrupt_fog + interrupt_no_fog + (1 | id), data = data)\n",
       "\n",
       "Linear Hypotheses:\n",
       "                         Estimate Std. Error z value Pr(>|z|)    \n",
       "Inverse - Heuristic == 0  -4.2335     0.5336  -7.934  < 1e-05 ***\n",
       "POMCP - Heuristic == 0     2.2289     0.5319   4.191 7.65e-05 ***\n",
       "POMCP - Inverse == 0       6.4625     0.5232  12.352  < 1e-05 ***\n",
       "---\n",
       "Signif. codes:  0 '***' 0.001 '**' 0.01 '*' 0.05 '.' 0.1 ' ' 1\n",
       "(Adjusted p values reported -- single-step method)\n"
      ]
     },
     "metadata": {},
     "output_type": "display_data"
    }
   ],
   "source": [
    "m.final = lmer(trust ~ age + social_influence_attitude + factor(condition) + interrupt_fog + interrupt_no_fog + (1 | id), data=data)\n",
    "print.anova_stats(m.final, data, 0.05)\n",
    "summary(glht(m.final, linfct=mcp(\"factor(condition)\"=\"Tukey\")))"
   ]
  },
  {
   "cell_type": "markdown",
   "id": "4f6181cc",
   "metadata": {},
   "source": [
    "### 3. Willingness"
   ]
  },
  {
   "cell_type": "code",
   "execution_count": 24,
   "id": "e565bb69",
   "metadata": {},
   "outputs": [
    {
     "data": {
      "text/plain": [
       "\n",
       "\tShapiro-Wilk normality test\n",
       "\n",
       "data:  residuals(m)\n",
       "W = 0.99228, p-value = 0.5955\n"
      ]
     },
     "metadata": {},
     "output_type": "display_data"
    },
    {
     "data": {
      "text/html": [
       "<table class=\"dataframe\">\n",
       "<caption>A anova: 2 × 3</caption>\n",
       "<thead>\n",
       "\t<tr><th></th><th scope=col>Df</th><th scope=col>F value</th><th scope=col>Pr(&gt;F)</th></tr>\n",
       "\t<tr><th></th><th scope=col>&lt;int&gt;</th><th scope=col>&lt;dbl&gt;</th><th scope=col>&lt;dbl&gt;</th></tr>\n",
       "</thead>\n",
       "<tbody>\n",
       "\t<tr><th scope=row>group</th><td>  2</td><td>3.180011</td><td>0.04446108</td></tr>\n",
       "\t<tr><th scope=row> </th><td>147</td><td>      NA</td><td>        NA</td></tr>\n",
       "</tbody>\n",
       "</table>\n"
      ],
      "text/latex": [
       "A anova: 2 × 3\n",
       "\\begin{tabular}{r|lll}\n",
       "  & Df & F value & Pr(>F)\\\\\n",
       "  & <int> & <dbl> & <dbl>\\\\\n",
       "\\hline\n",
       "\tgroup &   2 & 3.180011 & 0.04446108\\\\\n",
       "\t  & 147 &       NA &         NA\\\\\n",
       "\\end{tabular}\n"
      ],
      "text/markdown": [
       "\n",
       "A anova: 2 × 3\n",
       "\n",
       "| <!--/--> | Df &lt;int&gt; | F value &lt;dbl&gt; | Pr(&gt;F) &lt;dbl&gt; |\n",
       "|---|---|---|---|\n",
       "| group |   2 | 3.180011 | 0.04446108 |\n",
       "| <!----> | 147 |       NA |         NA |\n",
       "\n"
      ],
      "text/plain": [
       "      Df  F value  Pr(>F)    \n",
       "group   2 3.180011 0.04446108\n",
       "      147       NA         NA"
      ]
     },
     "metadata": {},
     "output_type": "display_data"
    },
    {
     "name": "stdout",
     "output_type": "stream",
     "text": [
      "Analysis of Variance Table\n",
      "                  npar Sum Sq Mean Sq F value\n",
      "factor(condition)    2 574.84 287.420 42.0186\n",
      "extra_step           1 109.88 109.883 16.0640\n",
      "interrupt_fog        1 114.42 114.422 16.7276\n",
      "interrupt_no_fog     1  19.75  19.748  2.8870\n",
      "detection            1   5.06   5.063  0.7402\n",
      "score                1  12.56  12.560  1.8361\n",
      "falling              1   0.09   0.088  0.0129\n"
     ]
    },
    {
     "name": "stderr",
     "output_type": "stream",
     "text": [
      "factor(condition):  F(2,150)=42.0185585114203     p = 3.53276569330806e-15\n",
      "\n",
      "extra_step:  F(1,150)=16.0640277021977     p = 9.64470445399461e-05\n",
      "\n",
      "interrupt_fog:  F(1,150)=16.7276367940066     p = 7.03701060081353e-05\n",
      "\n"
     ]
    }
   ],
   "source": [
    "m <- lmer(willingness ~ factor(condition) \n",
    "          + extra_step \n",
    "          + interrupt_fog \n",
    "          + interrupt_no_fog \n",
    "          + detection \n",
    "          + score\n",
    "          + falling \n",
    "          + (1|data$id), data)\n",
    "\n",
    "# # Test for model assumptions\n",
    "shapiro.test(residuals(m))  # p value should be greater than 0.05 to satisfy normality assumptions\n",
    "leveneTest(data$willingness ~ factor(data$condition))  # p value should be greater than 0.05 to satisfy homoscedasticity assumptions (only use categorical variables)\n",
    "\n",
    "\n",
    "print.anova_stats(m, data, 0.05)"
   ]
  },
  {
   "cell_type": "code",
   "execution_count": 25,
   "id": "490fb8f0",
   "metadata": {},
   "outputs": [],
   "source": [
    "m.null <- lmer(willingness ~ (1|data$id), data = data)  \n",
    "m.full <- lmer(willingness ~ factor(gender) + age + experience\n",
    "          + extraversion\n",
    "               + agreeableness\n",
    "               + conscientiousness\n",
    "               + neuroticism\n",
    "          + intellect \n",
    "          + interaction_attitude\n",
    "               + social_influence_attitude\n",
    "               + emotion_attitude \n",
    "          + factor(condition)\n",
    "          + round\n",
    "          + factor(condition) * round\n",
    "          + extra_step \n",
    "#           + interrupt_fog\n",
    "#           + interrupt_no_fog\n",
    "          + longer_interrupt_fog \n",
    "          + longer_interrupt_no_fog\n",
    "          + slippery_interrupt_fog \n",
    "          + slippery_interrupt_no_fog\n",
    "          + detection \n",
    "          + score\n",
    "          + falling\n",
    "          + map\n",
    "          + factor(condition) * map\n",
    "          + (1|id)\n",
    "        , data = data)  \n",
    "\n",
    "# step.model<- step(m.full)\n",
    "# print(step.model)\n",
    "# AIC(lmer(willingness ~ factor(gender) + age + conscientiousness + emotion_attitude + longer_interrupt_fog + longer_interrupt_no_fog + score + (1 | id),data=data))\n",
    "# AIC(lmer(willingness ~ factor(gender) + age + conscientiousness + emotion_attitude + interrupt_fog + score + (1 | id),data=data))"
   ]
  },
  {
   "cell_type": "code",
   "execution_count": 26,
   "id": "8a23b0be",
   "metadata": {},
   "outputs": [
    {
     "data": {
      "text/html": [
       "753.857027638364"
      ],
      "text/latex": [
       "753.857027638364"
      ],
      "text/markdown": [
       "753.857027638364"
      ],
      "text/plain": [
       "[1] 753.857"
      ]
     },
     "metadata": {},
     "output_type": "display_data"
    },
    {
     "name": "stdout",
     "output_type": "stream",
     "text": [
      "Analysis of Variance Table\n",
      "                  npar Sum Sq Mean Sq F value\n",
      "factor(condition)    2 574.84 287.420 40.5220\n",
      "factor(gender)       2  14.90   7.450  1.0504\n",
      "age                  1 131.17 131.167 18.4927\n",
      "conscientiousness    1  44.98  44.977  6.3411\n",
      "emotion_attitude     1  82.59  82.589 11.6438\n",
      "interrupt_fog        1 181.90 181.903 25.6457\n"
     ]
    },
    {
     "name": "stderr",
     "output_type": "stream",
     "text": [
      "factor(condition):  F(2,150)=40.5220215888093     p = 9.23338265029413e-15\n",
      "\n",
      "age:  F(1,150)=18.4926501200538     p = 3.06972118200302e-05\n",
      "\n",
      "conscientiousness:  F(1,150)=6.34114912660418     p = 0.0128532670787324\n",
      "\n",
      "emotion_attitude:  F(1,150)=11.6437990286291     p = 0.000829555554060164\n",
      "\n",
      "interrupt_fog:  F(1,150)=25.6457081130333     p = 1.19520017963514e-06\n",
      "\n"
     ]
    },
    {
     "data": {
      "text/plain": [
       "\n",
       "\t Simultaneous Tests for General Linear Hypotheses\n",
       "\n",
       "Multiple Comparisons of Means: Tukey Contrasts\n",
       "\n",
       "\n",
       "Fit: lmer(formula = willingness ~ factor(condition) + factor(gender) + \n",
       "    age + conscientiousness + emotion_attitude + interrupt_fog + \n",
       "    (1 | id), data = data)\n",
       "\n",
       "Linear Hypotheses:\n",
       "                         Estimate Std. Error z value Pr(>|z|)    \n",
       "Inverse - Heuristic == 0  -3.0031     0.5356  -5.607  < 1e-04 ***\n",
       "POMCP - Heuristic == 0     2.0343     0.5327   3.819 0.000423 ***\n",
       "POMCP - Inverse == 0       5.0374     0.5351   9.414  < 1e-04 ***\n",
       "---\n",
       "Signif. codes:  0 '***' 0.001 '**' 0.01 '*' 0.05 '.' 0.1 ' ' 1\n",
       "(Adjusted p values reported -- single-step method)\n"
      ]
     },
     "metadata": {},
     "output_type": "display_data"
    }
   ],
   "source": [
    "m.final = lmer(willingness ~ factor(condition) + factor(gender) + age + conscientiousness + emotion_attitude + interrupt_fog + (1 | id), data=data)\n",
    "# AIC(m.final)\n",
    "AIC(lmer(willingness ~ factor(condition) + factor(gender) + age + conscientiousness + emotion_attitude + interrupt_fog + (1 | id), data=data))\n",
    "print.anova_stats(m.final, data, 0.05)\n",
    "summary(glht(m.final, linfct=mcp(\"factor(condition)\"=\"Tukey\")))"
   ]
  },
  {
   "cell_type": "markdown",
   "id": "f005d26f",
   "metadata": {},
   "source": [
    "### 4. Robot Likeability"
   ]
  },
  {
   "cell_type": "code",
   "execution_count": 27,
   "id": "4b1da2b8",
   "metadata": {},
   "outputs": [
    {
     "data": {
      "text/plain": [
       "\n",
       "\tShapiro-Wilk normality test\n",
       "\n",
       "data:  residuals(m)\n",
       "W = 0.98949, p-value = 0.3244\n"
      ]
     },
     "metadata": {},
     "output_type": "display_data"
    },
    {
     "data": {
      "text/html": [
       "<table class=\"dataframe\">\n",
       "<caption>A anova: 2 × 3</caption>\n",
       "<thead>\n",
       "\t<tr><th></th><th scope=col>Df</th><th scope=col>F value</th><th scope=col>Pr(&gt;F)</th></tr>\n",
       "\t<tr><th></th><th scope=col>&lt;int&gt;</th><th scope=col>&lt;dbl&gt;</th><th scope=col>&lt;dbl&gt;</th></tr>\n",
       "</thead>\n",
       "<tbody>\n",
       "\t<tr><th scope=row>group</th><td>  2</td><td>2.176468</td><td>0.1170838</td></tr>\n",
       "\t<tr><th scope=row> </th><td>147</td><td>      NA</td><td>       NA</td></tr>\n",
       "</tbody>\n",
       "</table>\n"
      ],
      "text/latex": [
       "A anova: 2 × 3\n",
       "\\begin{tabular}{r|lll}\n",
       "  & Df & F value & Pr(>F)\\\\\n",
       "  & <int> & <dbl> & <dbl>\\\\\n",
       "\\hline\n",
       "\tgroup &   2 & 2.176468 & 0.1170838\\\\\n",
       "\t  & 147 &       NA &        NA\\\\\n",
       "\\end{tabular}\n"
      ],
      "text/markdown": [
       "\n",
       "A anova: 2 × 3\n",
       "\n",
       "| <!--/--> | Df &lt;int&gt; | F value &lt;dbl&gt; | Pr(&gt;F) &lt;dbl&gt; |\n",
       "|---|---|---|---|\n",
       "| group |   2 | 2.176468 | 0.1170838 |\n",
       "| <!----> | 147 |       NA |        NA |\n",
       "\n"
      ],
      "text/plain": [
       "      Df  F value  Pr(>F)   \n",
       "group   2 2.176468 0.1170838\n",
       "      147       NA        NA"
      ]
     },
     "metadata": {},
     "output_type": "display_data"
    },
    {
     "name": "stdout",
     "output_type": "stream",
     "text": [
      "Analysis of Variance Table\n",
      "                                npar Sum Sq Mean Sq F value\n",
      "factor(condition_n_explanation)    3 998.49  332.83 30.0600\n",
      "extra_step                         1 171.97  171.97 15.5319\n",
      "interrupt_fog                      1 140.79  140.79 12.7157\n",
      "interrupt_no_fog                   1  92.10   92.10  8.3177\n",
      "detection                          1   0.56    0.56  0.0507\n",
      "score                              1  56.86   56.86  5.1357\n",
      "falling                            1   2.88    2.88  0.2597\n"
     ]
    },
    {
     "name": "stderr",
     "output_type": "stream",
     "text": [
      "factor(condition_n_explanation):  F(3,150)=30.0599719450828     p = 3.25157950466497e-15\n",
      "\n",
      "extra_step:  F(1,150)=15.5319281758672     p = 0.000124352583994118\n",
      "\n",
      "interrupt_fog:  F(1,150)=12.7157332743235     p = 0.000487842700685365\n",
      "\n",
      "interrupt_no_fog:  F(1,150)=8.31767270680381     p = 0.00450833024321424\n",
      "\n",
      "score:  F(1,150)=5.13568252672391     p = 0.0248789746196446\n",
      "\n"
     ]
    }
   ],
   "source": [
    "m <- lmer(likeability ~ factor(condition_n_explanation) \n",
    "          + extra_step \n",
    "          + interrupt_fog \n",
    "          + interrupt_no_fog \n",
    "          + detection \n",
    "          + score\n",
    "          + falling \n",
    "          + (1|data$id), data)\n",
    "\n",
    "# # Test for model assumptions\n",
    "shapiro.test(residuals(m))  # p value should be greater than 0.05 to satisfy normality assumptions\n",
    "leveneTest(data$likeability ~ factor(data$condition))  # p value should be greater than 0.05 to satisfy homoscedasticity assumptions (only use categorical variables)\n",
    "\n",
    "print.anova_stats(m, data, 0.05)"
   ]
  },
  {
   "cell_type": "code",
   "execution_count": 28,
   "id": "293e1869",
   "metadata": {},
   "outputs": [],
   "source": [
    "m.null <- lmer(likeability ~ (1|data$id), data = data)  \n",
    "m.full <- lmer(likeability ~ factor(gender) + age + experience\n",
    "          + extraversion\n",
    "               + agreeableness\n",
    "               + conscientiousness\n",
    "               + neuroticism\n",
    "          + intellect \n",
    "          + interaction_attitude\n",
    "               + social_influence_attitude\n",
    "               + emotion_attitude \n",
    "          + factor(condition)\n",
    "          + round\n",
    "          + factor(condition) * round\n",
    "          + extra_step \n",
    "#           + longer_interrupt_fog \n",
    "#           + longer_interrupt_no_fog\n",
    "          + slippery_interrupt_fog \n",
    "          + slippery_interrupt_no_fog\n",
    "          + interrupt_fog \n",
    "          + interrupt_no_fog\n",
    "          + detection \n",
    "          + score\n",
    "          + falling\n",
    "          + map\n",
    "          + factor(condition) * map\n",
    "          + (1|id)\n",
    "        , data = data)  \n",
    "\n",
    "# step.model<- step(m.full)\n",
    "# print(step.model)\n",
    "# AIC(lmer(likeability ~ score + falling + (1 | id), data=data))\n",
    "# AIC(lmer(likeability ~ factor(condition) + interrupt_fog + interrupt_no_fog + score + (1 | id), data=data))"
   ]
  },
  {
   "cell_type": "code",
   "execution_count": 29,
   "id": "92e166c2",
   "metadata": {
    "scrolled": true
   },
   "outputs": [
    {
     "name": "stdout",
     "output_type": "stream",
     "text": [
      "Analysis of Variance Table\n",
      "                  npar Sum Sq Mean Sq F value\n",
      "factor(condition)    2 963.21  481.61  42.429\n",
      "interrupt_fog        1 295.27  295.27  26.013\n",
      "interrupt_no_fog     1 143.30  143.30  12.624\n"
     ]
    },
    {
     "name": "stderr",
     "output_type": "stream",
     "text": [
      "factor(condition):  F(2,150)=42.4290348599577     p = 2.72026524975747e-15\n",
      "\n",
      "interrupt_fog:  F(1,150)=26.0127886532734     p = 1.01642876912418e-06\n",
      "\n",
      "interrupt_no_fog:  F(1,150)=12.6241464491835     p = 0.000510356088824544\n",
      "\n"
     ]
    },
    {
     "data": {
      "text/plain": [
       "\n",
       "\t Simultaneous Tests for General Linear Hypotheses\n",
       "\n",
       "Multiple Comparisons of Means: Tukey Contrasts\n",
       "\n",
       "\n",
       "Fit: lmer(formula = likeability ~ factor(condition) + interrupt_fog + \n",
       "    interrupt_no_fog + (1 | id), data = data)\n",
       "\n",
       "Linear Hypotheses:\n",
       "                         Estimate Std. Error z value Pr(>|z|)    \n",
       "Inverse - Heuristic == 0  -5.1672     0.6908  -7.480   <1e-04 ***\n",
       "POMCP - Heuristic == 0     1.1651     0.6884   1.692    0.208    \n",
       "POMCP - Inverse == 0       6.3323     0.6771   9.352   <1e-04 ***\n",
       "---\n",
       "Signif. codes:  0 '***' 0.001 '**' 0.01 '*' 0.05 '.' 0.1 ' ' 1\n",
       "(Adjusted p values reported -- single-step method)\n"
      ]
     },
     "metadata": {},
     "output_type": "display_data"
    }
   ],
   "source": [
    "m.final = lmer(likeability ~ factor(condition) + interrupt_fog + interrupt_no_fog  +  (1 | id), data=data)\n",
    "# AIC(m.final)\n",
    "print.anova_stats(m.final, data, 0.05)\n",
    "summary(glht(m.final, linfct=mcp(\"factor(condition)\"=\"Tukey\")))"
   ]
  },
  {
   "cell_type": "code",
   "execution_count": null,
   "id": "65d3b541",
   "metadata": {},
   "outputs": [],
   "source": []
  }
 ],
 "metadata": {
  "kernelspec": {
   "display_name": "R",
   "language": "R",
   "name": "ir"
  },
  "language_info": {
   "codemirror_mode": "r",
   "file_extension": ".r",
   "mimetype": "text/x-r-source",
   "name": "R",
   "pygments_lexer": "r",
   "version": "4.1.3"
  }
 },
 "nbformat": 4,
 "nbformat_minor": 5
}
