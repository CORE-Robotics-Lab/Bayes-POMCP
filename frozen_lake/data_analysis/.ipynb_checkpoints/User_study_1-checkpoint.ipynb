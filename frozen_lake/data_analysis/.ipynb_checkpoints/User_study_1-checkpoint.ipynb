{
 "cells": [
  {
   "cell_type": "code",
   "execution_count": 23,
   "id": "05270306",
   "metadata": {},
   "outputs": [],
   "source": [
    "library(lme4)\n",
    "library(MASS)\n",
    "library(plyr) \n",
    "library(knitr)\n",
    "library(multcomp)\n",
    "library(FSA)\n",
    "library(car)\n",
    "# library(PMCMRplus)\n",
    "# library(PMCMR)\n",
    "# library(rcompanion)\n",
    "# library(glmmTMB)"
   ]
  },
  {
   "cell_type": "code",
   "execution_count": 24,
   "id": "45e17b45",
   "metadata": {},
   "outputs": [],
   "source": [
    "file_path = 'combined_data_5_20_data_analysis.csv'\n",
    "data <- read.csv(file_path)"
   ]
  },
  {
   "cell_type": "code",
   "execution_count": 25,
   "id": "9b8eac80",
   "metadata": {},
   "outputs": [],
   "source": [
    "print.model.summary <- function(model){\n",
    "    print('***********Coefficients of model*******************')\n",
    "    print(summary(model)$coef)\n",
    "    print('***************************************************')\n",
    "}"
   ]
  },
  {
   "cell_type": "code",
   "execution_count": 26,
   "id": "192cca59",
   "metadata": {},
   "outputs": [],
   "source": [
    "print.anova_stats <- function(model, data, p_val){\n",
    "    stats = anova(model)\n",
    "    df_total <- length(data$Id)\n",
    "    df_vec <- stats$npar\n",
    "    print(stats)\n",
    "    f_vec <- stats$\"F value\"\n",
    "    for (i in 1:length(df_vec)) {\n",
    "      p <- pf(f_vec[i], df_vec[i], df_total-df_vec[i], lower.tail = FALSE, log.p = FALSE)\n",
    "      if(p < p_val){\n",
    "        (message(rownames(stats)[i],\":  F(\",df_vec[i],\",\",df_total,\")=\",f_vec[i],\"     p = \",p))\n",
    "          }\n",
    "\n",
    "    }\n",
    "}"
   ]
  },
  {
   "cell_type": "code",
   "execution_count": 27,
   "id": "1942469d",
   "metadata": {},
   "outputs": [],
   "source": [
    "#+++++++++++++++++++++++++\n",
    "# Function to calculate the mean and the standard deviation\n",
    "  # for each group\n",
    "#+++++++++++++++++++++++++\n",
    "# data : a data frame\n",
    "# varname : the name of a column containing the variable\n",
    "  #to be summariezed\n",
    "# groupnames : vector of column names to be used as\n",
    "  # grouping variables\n",
    "data_summary <- function(data, varname, groupnames){\n",
    "  require(plyr)\n",
    "  summary_func <- function(x, col){\n",
    "    c(mean = mean(x[[col]], na.rm=TRUE),\n",
    "      sd = sd(x[[col]], na.rm=TRUE)/sqrt(length(data)))\n",
    "  }\n",
    "  data_sum<-ddply(data, groupnames, .fun=summary_func,\n",
    "                  varname)\n",
    "  data_sum <- rename(data_sum, c(\"mean\" = varname))\n",
    " return(data_sum)\n",
    "}"
   ]
  },
  {
   "cell_type": "markdown",
   "id": "e079ecd3",
   "metadata": {},
   "source": [
    "## Performance"
   ]
  },
  {
   "cell_type": "markdown",
   "id": "c72905ce",
   "metadata": {},
   "source": [
    "### 1. Score or Total Reward"
   ]
  },
  {
   "cell_type": "code",
   "execution_count": 28,
   "id": "77d55840",
   "metadata": {},
   "outputs": [
    {
     "data": {
      "text/plain": [
       "\n",
       "\tShapiro-Wilk normality test\n",
       "\n",
       "data:  residuals(m)\n",
       "W = 0.97211, p-value = 2.016e-05\n"
      ]
     },
     "metadata": {},
     "output_type": "display_data"
    },
    {
     "name": "stdout",
     "output_type": "stream",
     "text": [
      "Analysis of Variance Table\n",
      "                                     npar Sum Sq Mean Sq F value\n",
      "factor(data$condition_n_explanation)    4 101035 25258.8 19.7664\n",
      "data$round                              1    362   362.0  0.2833\n",
      "factor(data$gender)                     1   2036  2036.4  1.5936\n",
      "data$age                                1    550   550.4  0.4307\n",
      "data$experience                         1     13    12.7  0.0099\n",
      "data$extraversion                       1   6546  6545.7  5.1223\n",
      "data$agreeableness                      1    293   292.6  0.2290\n",
      "data$conscientiousness                  1   3306  3305.6  2.5868\n",
      "data$neuroticism                        1   3326  3325.5  2.6024\n",
      "data$intellect                          1   1674  1674.2  1.3102\n"
     ]
    },
    {
     "name": "stderr",
     "output_type": "stream",
     "text": [
      "factor(data$condition_n_explanation):  F(4,290)=19.7663504411515     p = 2.21865136535073e-14\n",
      "\n",
      "data$extraversion:  F(1,290)=5.12233605425222     p = 0.0243615583089973\n",
      "\n"
     ]
    }
   ],
   "source": [
    "# rANOVA fails test assuptions\n",
    "m <- lmer(score ~ factor(data$condition_n_explanation) + data$round \n",
    "          + factor(data$gender) + data$age + data$experience\n",
    "          + data$extraversion + data$agreeableness + data$conscientiousness + data$neuroticism + data$intellect \n",
    "          + (1|data$Id), data)\n",
    "\n",
    "# # Test for model assumptions\n",
    "shapiro.test(residuals(m))  # p value should be greater than 0.05 to satisfy normality assumptions\n",
    "# leveneTest(data$trust ~ factor(data$condition_n_explanation) * factor(data$round))  # p value should be greater than 0.05 to satisfy homoscedasticity assumptions (only use categorical variables)\n",
    "\n",
    "# print(Anova(m))\n",
    "print.anova_stats(m, data, 0.05)"
   ]
  },
  {
   "cell_type": "code",
   "execution_count": 29,
   "id": "f92e2ce8",
   "metadata": {
    "scrolled": true
   },
   "outputs": [
    {
     "data": {
      "text/plain": [
       "\n",
       "\tKruskal-Wallis rank sum test\n",
       "\n",
       "data:  data$score by factor(data$condition_n_explanation)\n",
       "Kruskal-Wallis chi-squared = 58.159, df = 4, p-value = 7.066e-12\n"
      ]
     },
     "metadata": {},
     "output_type": "display_data"
    },
    {
     "data": {
      "text/plain": [
       "\n",
       "\tKruskal-Wallis rank sum test\n",
       "\n",
       "data:  data$score by data$round\n",
       "Kruskal-Wallis chi-squared = 0.059397, df = 1, p-value = 0.8075\n"
      ]
     },
     "metadata": {},
     "output_type": "display_data"
    },
    {
     "data": {
      "text/plain": [
       "\n",
       "\tKruskal-Wallis rank sum test\n",
       "\n",
       "data:  data$score by data$condition_n_round\n",
       "Kruskal-Wallis chi-squared = 61.52, df = 9, p-value = 6.824e-10\n"
      ]
     },
     "metadata": {},
     "output_type": "display_data"
    }
   ],
   "source": [
    "kruskal.test(data$score ~ factor(data$condition_n_explanation)) \n",
    "kruskal.test(data$score ~ data$round)\n",
    "kruskal.test(data$score ~ data$condition_n_round)"
   ]
  },
  {
   "cell_type": "code",
   "execution_count": 30,
   "id": "6cae2027",
   "metadata": {},
   "outputs": [
    {
     "name": "stderr",
     "output_type": "stream",
     "text": [
      "Dunn (1964) Kruskal-Wallis multiple comparison\n",
      "\n",
      "  p-values adjusted with the Holm method.\n",
      "\n",
      "\n"
     ]
    },
    {
     "data": {
      "text/plain": [
       "                                Comparison          Z      P.unadj        P.adj\n",
       "1              control - control_w_explain -0.6261877 5.311918e-01 5.311918e-01\n",
       "2                      control - interrupt  2.7616483 5.751040e-03 2.875520e-02\n",
       "3            control_w_explain - interrupt  3.3878359 7.044639e-04 4.931247e-03\n",
       "4            control - interrupt_w_explain  0.6394755 5.225137e-01 1.000000e+00\n",
       "5  control_w_explain - interrupt_w_explain  1.2656632 2.056337e-01 6.169011e-01\n",
       "6          interrupt - interrupt_w_explain -2.1221728 3.382323e-02 1.352929e-01\n",
       "7                   control - no_interrupt  6.0060867 1.900546e-09 1.710492e-08\n",
       "8         control_w_explain - no_interrupt  6.6322744 3.305534e-11 3.305534e-10\n",
       "9                 interrupt - no_interrupt  3.2444384 1.176825e-03 7.060948e-03\n",
       "10      interrupt_w_explain - no_interrupt  5.3666112 8.022975e-08 6.418380e-07"
      ]
     },
     "metadata": {},
     "output_type": "display_data"
    }
   ],
   "source": [
    "dunnTest(data$score, factor(data$condition_n_explanation))"
   ]
  },
  {
   "cell_type": "code",
   "execution_count": 31,
   "id": "75c04ca9",
   "metadata": {},
   "outputs": [
    {
     "name": "stdout",
     "output_type": "stream",
     "text": [
      "[1] 58.15909\n",
      "[1] 0.2012425\n"
     ]
    }
   ],
   "source": [
    "Hadj <- unname(kruskal.test(data$score ~ factor(data$condition_n_explanation))$statistic)\n",
    "n <- sum(table(data$score, factor(data$condition_n_explanation)))\n",
    "e2 <- Hadj*(n+1)/(n^2-1)\n",
    "print(Hadj)  # H-value (test statistic => chi-squared)\n",
    "print(e2)  # Effect Size"
   ]
  },
  {
   "cell_type": "markdown",
   "id": "03f7c93a",
   "metadata": {},
   "source": [
    "### 2. Extra Steps"
   ]
  },
  {
   "cell_type": "code",
   "execution_count": 32,
   "id": "66360b82",
   "metadata": {},
   "outputs": [
    {
     "data": {
      "text/plain": [
       "\n",
       "\tShapiro-Wilk normality test\n",
       "\n",
       "data:  residuals(m)\n",
       "W = 0.97548, p-value = 7.126e-05\n"
      ]
     },
     "metadata": {},
     "output_type": "display_data"
    },
    {
     "name": "stdout",
     "output_type": "stream",
     "text": [
      "Analysis of Variance Table\n",
      "                                     npar Sum Sq Mean Sq F value\n",
      "factor(data$condition_n_explanation)    4 33.317  8.3292 14.6585\n",
      "data$round                              1  1.410  1.4103  2.4820\n",
      "factor(data$gender)                     1  0.187  0.1866  0.3285\n",
      "data$age                                1  0.443  0.4430  0.7797\n",
      "data$experience                         1  0.063  0.0631  0.1111\n",
      "data$extraversion                       1  0.803  0.8031  1.4133\n",
      "data$agreeableness                      1  0.628  0.6277  1.1046\n",
      "data$conscientiousness                  1  1.169  1.1689  2.0571\n",
      "data$neuroticism                        1  0.806  0.8062  1.4188\n",
      "data$intellect                          1  1.199  1.1993  2.1107\n"
     ]
    },
    {
     "name": "stderr",
     "output_type": "stream",
     "text": [
      "factor(data$condition_n_explanation):  F(4,290)=14.6585212837656     p = 6.6334236632083e-11\n",
      "\n"
     ]
    }
   ],
   "source": [
    "# rANOVA fails test assuptions\n",
    "m <- lmer(extra_step ~ factor(data$condition_n_explanation) + data$round \n",
    "          + factor(data$gender) + data$age + data$experience\n",
    "          + data$extraversion + data$agreeableness + data$conscientiousness + data$neuroticism + data$intellect \n",
    "          + (1|data$Id), data)\n",
    "\n",
    "# # Test for model assumptions\n",
    "shapiro.test(residuals(m))  # p value should be greater than 0.05 to satisfy normality assumptions\n",
    "# leveneTest(data$trust ~ factor(data$condition_n_explanation) * factor(data$round))  # p value should be greater than 0.05 to satisfy homoscedasticity assumptions (only use categorical variables)\n",
    "\n",
    "# print(Anova(m))\n",
    "print.anova_stats(m, data, 0.05)"
   ]
  },
  {
   "cell_type": "code",
   "execution_count": 33,
   "id": "1c5c0910",
   "metadata": {},
   "outputs": [
    {
     "data": {
      "text/plain": [
       "\n",
       "\tKruskal-Wallis rank sum test\n",
       "\n",
       "data:  data$extra_step by factor(data$condition_n_explanation)\n",
       "Kruskal-Wallis chi-squared = 52.712, df = 4, p-value = 9.791e-11\n"
      ]
     },
     "metadata": {},
     "output_type": "display_data"
    },
    {
     "data": {
      "text/plain": [
       "\n",
       "\tKruskal-Wallis rank sum test\n",
       "\n",
       "data:  data$extra_step by data$round\n",
       "Kruskal-Wallis chi-squared = 1.3531, df = 1, p-value = 0.2447\n"
      ]
     },
     "metadata": {},
     "output_type": "display_data"
    },
    {
     "data": {
      "text/plain": [
       "\n",
       "\tKruskal-Wallis rank sum test\n",
       "\n",
       "data:  data$extra_step by data$condition_n_round\n",
       "Kruskal-Wallis chi-squared = 56.937, df = 9, p-value = 5.197e-09\n"
      ]
     },
     "metadata": {},
     "output_type": "display_data"
    }
   ],
   "source": [
    "kruskal.test(data$extra_step ~ factor(data$condition_n_explanation)) \n",
    "kruskal.test(data$extra_step ~ data$round)\n",
    "kruskal.test(data$extra_step ~ data$condition_n_round)"
   ]
  },
  {
   "cell_type": "code",
   "execution_count": 34,
   "id": "993e6ede",
   "metadata": {
    "scrolled": false
   },
   "outputs": [
    {
     "name": "stderr",
     "output_type": "stream",
     "text": [
      "Dunn (1964) Kruskal-Wallis multiple comparison\n",
      "\n",
      "  p-values adjusted with the Holm method.\n",
      "\n",
      "\n"
     ]
    },
    {
     "data": {
      "text/plain": [
       "                                Comparison          Z      P.unadj        P.adj\n",
       "1              control - control_w_explain  1.0308837 3.025954e-01 6.051907e-01\n",
       "2                      control - interrupt -4.3732280 1.224228e-05 8.569594e-05\n",
       "3            control_w_explain - interrupt -5.4041117 6.513036e-08 5.861732e-07\n",
       "4            control - interrupt_w_explain -2.3845414 1.710042e-02 8.550211e-02\n",
       "5  control_w_explain - interrupt_w_explain -3.4154252 6.368253e-04 3.820952e-03\n",
       "6          interrupt - interrupt_w_explain  1.9886865 4.673581e-02 1.402074e-01\n",
       "7                   control - no_interrupt -4.7258987 2.290998e-06 1.832799e-05\n",
       "8         control_w_explain - no_interrupt -5.7567824 8.573229e-09 8.573229e-08\n",
       "9                 interrupt - no_interrupt -0.3526707 7.243353e-01 7.243353e-01\n",
       "10      interrupt_w_explain - no_interrupt -2.3413573 1.921377e-02 7.685508e-02"
      ]
     },
     "metadata": {},
     "output_type": "display_data"
    }
   ],
   "source": [
    "dunnTest(data$extra_step, factor(data$condition_n_explanation))"
   ]
  },
  {
   "cell_type": "markdown",
   "id": "d19f4087",
   "metadata": {},
   "source": [
    "### 3. Fallling Number"
   ]
  },
  {
   "cell_type": "code",
   "execution_count": 35,
   "id": "de68c2ef",
   "metadata": {
    "scrolled": true
   },
   "outputs": [
    {
     "data": {
      "text/plain": [
       "\n",
       "\tKruskal-Wallis rank sum test\n",
       "\n",
       "data:  data$falling_num by factor(data$condition_n_explanation)\n",
       "Kruskal-Wallis chi-squared = 76.961, df = 4, p-value = 7.665e-16\n"
      ]
     },
     "metadata": {},
     "output_type": "display_data"
    },
    {
     "data": {
      "text/plain": [
       "\n",
       "\tKruskal-Wallis rank sum test\n",
       "\n",
       "data:  data$falling_num by data$round\n",
       "Kruskal-Wallis chi-squared = 0.33692, df = 1, p-value = 0.5616\n"
      ]
     },
     "metadata": {},
     "output_type": "display_data"
    },
    {
     "data": {
      "text/plain": [
       "\n",
       "\tKruskal-Wallis rank sum test\n",
       "\n",
       "data:  data$falling_num by data$condition_n_round\n",
       "Kruskal-Wallis chi-squared = 80.273, df = 9, p-value = 1.427e-13\n"
      ]
     },
     "metadata": {},
     "output_type": "display_data"
    }
   ],
   "source": [
    "kruskal.test(data$falling_num ~ factor(data$condition_n_explanation)) \n",
    "kruskal.test(data$falling_num ~ data$round)\n",
    "kruskal.test(data$falling_num ~ data$condition_n_round)"
   ]
  },
  {
   "cell_type": "code",
   "execution_count": 36,
   "id": "9f7ffd72",
   "metadata": {},
   "outputs": [
    {
     "name": "stderr",
     "output_type": "stream",
     "text": [
      "Dunn (1964) Kruskal-Wallis multiple comparison\n",
      "\n",
      "  p-values adjusted with the Holm method.\n",
      "\n",
      "\n"
     ]
    },
    {
     "data": {
      "text/plain": [
       "                                Comparison          Z      P.unadj        P.adj\n",
       "1              control - control_w_explain  0.2577293 7.966158e-01 7.966158e-01\n",
       "2                      control - interrupt -3.3841972 7.138671e-04 3.569336e-03\n",
       "3            control_w_explain - interrupt -3.6419265 2.706053e-04 1.623632e-03\n",
       "4            control - interrupt_w_explain -1.5720916 1.159293e-01 2.318586e-01\n",
       "5  control_w_explain - interrupt_w_explain -1.8298209 6.727672e-02 2.691069e-01\n",
       "6          interrupt - interrupt_w_explain  1.8121056 6.996988e-02 2.099096e-01\n",
       "7                   control - no_interrupt -7.2992825 2.893064e-13 2.603758e-12\n",
       "8         control_w_explain - no_interrupt -7.5570118 4.124347e-14 4.124347e-13\n",
       "9                 interrupt - no_interrupt -3.9150853 9.037226e-05 6.326058e-04\n",
       "10      interrupt_w_explain - no_interrupt -5.7271909 1.021073e-08 8.168582e-08"
      ]
     },
     "metadata": {},
     "output_type": "display_data"
    }
   ],
   "source": [
    "dunnTest(data$falling_num, factor(data$condition_n_explanation))"
   ]
  },
  {
   "cell_type": "markdown",
   "id": "24859b70",
   "metadata": {},
   "source": [
    "### 4. Detection Number (averaged across both rounds)"
   ]
  },
  {
   "cell_type": "code",
   "execution_count": 37,
   "id": "b1269164",
   "metadata": {},
   "outputs": [
    {
     "data": {
      "text/plain": [
       "\n",
       "\tKruskal-Wallis rank sum test\n",
       "\n",
       "data:  data$detection_num by factor(data$condition_n_explanation)\n",
       "Kruskal-Wallis chi-squared = 11.822, df = 4, p-value = 0.01873\n"
      ]
     },
     "metadata": {},
     "output_type": "display_data"
    },
    {
     "data": {
      "text/plain": [
       "\n",
       "\tKruskal-Wallis rank sum test\n",
       "\n",
       "data:  data$detection_num by data$round\n",
       "Kruskal-Wallis chi-squared = 0.0042673, df = 1, p-value = 0.9479\n"
      ]
     },
     "metadata": {},
     "output_type": "display_data"
    },
    {
     "data": {
      "text/plain": [
       "\n",
       "\tKruskal-Wallis rank sum test\n",
       "\n",
       "data:  data$detection_num by data$condition_n_round\n",
       "Kruskal-Wallis chi-squared = 12.623, df = 9, p-value = 0.1804\n"
      ]
     },
     "metadata": {},
     "output_type": "display_data"
    }
   ],
   "source": [
    "kruskal.test(data$detection_num ~ factor(data$condition_n_explanation)) \n",
    "kruskal.test(data$detection_num ~ data$round)\n",
    "kruskal.test(data$detection_num ~ data$condition_n_round)"
   ]
  },
  {
   "cell_type": "code",
   "execution_count": 38,
   "id": "e0b4376d",
   "metadata": {},
   "outputs": [
    {
     "name": "stderr",
     "output_type": "stream",
     "text": [
      "Dunn (1964) Kruskal-Wallis multiple comparison\n",
      "\n",
      "  p-values adjusted with the Holm method.\n",
      "\n",
      "\n"
     ]
    },
    {
     "data": {
      "text/plain": [
       "                                Comparison           Z     P.unadj      P.adj\n",
       "1              control - control_w_explain -0.04442458 0.964565966 0.96456597\n",
       "2                      control - interrupt -2.18513422 0.028879007 0.23103205\n",
       "3            control_w_explain - interrupt -2.14070964 0.032297461 0.22608223\n",
       "4            control - interrupt_w_explain -1.71923140 0.085572246 0.51343347\n",
       "5  control_w_explain - interrupt_w_explain -1.67480681 0.093972142 0.46986071\n",
       "6          interrupt - interrupt_w_explain  0.46590282 0.641285060 1.00000000\n",
       "7                   control - no_interrupt -2.59828285 0.009369128 0.09369128\n",
       "8         control_w_explain - no_interrupt -2.55385827 0.010653661 0.09588295\n",
       "9                 interrupt - no_interrupt -0.41314863 0.679497722 1.00000000\n",
       "10      interrupt_w_explain - no_interrupt -0.87905145 0.379373378 1.00000000"
      ]
     },
     "metadata": {},
     "output_type": "display_data"
    }
   ],
   "source": [
    "dunnTest(data$detection_num, factor(data$condition_n_explanation))"
   ]
  },
  {
   "cell_type": "markdown",
   "id": "1ce30bd0",
   "metadata": {},
   "source": [
    "### 5. Interruption Number"
   ]
  },
  {
   "cell_type": "code",
   "execution_count": 39,
   "id": "16fcc2e5",
   "metadata": {},
   "outputs": [
    {
     "data": {
      "text/plain": [
       "\n",
       "\tKruskal-Wallis rank sum test\n",
       "\n",
       "data:  data$slippery_interruption_num_fog by factor(data$condition_n_explanation)\n",
       "Kruskal-Wallis chi-squared = 122.46, df = 4, p-value < 2.2e-16\n"
      ]
     },
     "metadata": {},
     "output_type": "display_data"
    },
    {
     "data": {
      "text/plain": [
       "\n",
       "\tKruskal-Wallis rank sum test\n",
       "\n",
       "data:  data$interruption_num_fog by data$extra_step\n",
       "Kruskal-Wallis chi-squared = 229.53, df = 180, p-value = 0.007392\n"
      ]
     },
     "metadata": {},
     "output_type": "display_data"
    },
    {
     "data": {
      "text/plain": [
       "\n",
       "\tKruskal-Wallis rank sum test\n",
       "\n",
       "data:  data$slippery_interruption_num_fog by data$condition_n_round\n",
       "Kruskal-Wallis chi-squared = 130, df = 9, p-value < 2.2e-16\n"
      ]
     },
     "metadata": {},
     "output_type": "display_data"
    },
    {
     "data": {
      "text/plain": [
       "\n",
       "\tKruskal-Wallis rank sum test\n",
       "\n",
       "data:  data$slippery_interruption_num_non_fog by factor(data$condition_n_explanation)\n",
       "Kruskal-Wallis chi-squared = 125.32, df = 4, p-value < 2.2e-16\n"
      ]
     },
     "metadata": {},
     "output_type": "display_data"
    },
    {
     "data": {
      "text/plain": [
       "\n",
       "\tKruskal-Wallis rank sum test\n",
       "\n",
       "data:  data$slippery_interruption_num_non_fog by data$round\n",
       "Kruskal-Wallis chi-squared = 0.84537, df = 1, p-value = 0.3579\n"
      ]
     },
     "metadata": {},
     "output_type": "display_data"
    },
    {
     "data": {
      "text/plain": [
       "\n",
       "\tKruskal-Wallis rank sum test\n",
       "\n",
       "data:  data$slippery_interruption_num_non_fog by data$condition_n_round\n",
       "Kruskal-Wallis chi-squared = 127.4, df = 9, p-value < 2.2e-16\n"
      ]
     },
     "metadata": {},
     "output_type": "display_data"
    }
   ],
   "source": [
    "kruskal.test(data$slippery_interruption_num_fog ~ factor(data$condition_n_explanation)) \n",
    "kruskal.test(data$interruption_num_fog ~ data$extra_step)\n",
    "kruskal.test(data$slippery_interruption_num_fog ~ data$condition_n_round)\n",
    "kruskal.test(data$slippery_interruption_num_non_fog ~ factor(data$condition_n_explanation)) \n",
    "kruskal.test(data$slippery_interruption_num_non_fog ~ data$round)\n",
    "kruskal.test(data$slippery_interruption_num_non_fog ~ data$condition_n_round)"
   ]
  },
  {
   "cell_type": "markdown",
   "id": "86c69772",
   "metadata": {},
   "source": [
    "## Subjective Metrics"
   ]
  },
  {
   "cell_type": "markdown",
   "id": "b62068ce",
   "metadata": {},
   "source": [
    "### 1. User Preference"
   ]
  },
  {
   "cell_type": "code",
   "execution_count": 40,
   "id": "31f5dbd7",
   "metadata": {},
   "outputs": [
    {
     "name": "stderr",
     "output_type": "stream",
     "text": [
      "Warning message in file(file, \"rt\"):\n",
      "\"cannot open file 'rank_data_user_study_1.csv': No such file or directory\"\n"
     ]
    },
    {
     "ename": "ERROR",
     "evalue": "Error in file(file, \"rt\"): cannot open the connection\n",
     "output_type": "error",
     "traceback": [
      "Error in file(file, \"rt\"): cannot open the connection\nTraceback:\n",
      "1. read.csv(\"rank_data_user_study_1.csv\")",
      "2. read.table(file = file, header = header, sep = sep, quote = quote, \n .     dec = dec, fill = fill, comment.char = comment.char, ...)",
      "3. file(file, \"rt\")"
     ]
    }
   ],
   "source": [
    "rank_data <- read.csv(\"rank_data_user_study_1.csv\")"
   ]
  },
  {
   "cell_type": "code",
   "execution_count": null,
   "id": "82421e99",
   "metadata": {},
   "outputs": [],
   "source": []
  }
 ],
 "metadata": {
  "kernelspec": {
   "display_name": "R",
   "language": "R",
   "name": "ir"
  },
  "language_info": {
   "codemirror_mode": "r",
   "file_extension": ".r",
   "mimetype": "text/x-r-source",
   "name": "R",
   "pygments_lexer": "r",
   "version": "4.1.3"
  }
 },
 "nbformat": 4,
 "nbformat_minor": 5
}
