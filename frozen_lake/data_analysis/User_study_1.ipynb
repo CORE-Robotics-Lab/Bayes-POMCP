{
 "cells": [
  {
   "cell_type": "code",
   "execution_count": 1,
   "id": "05270306",
   "metadata": {},
   "outputs": [
    {
     "name": "stderr",
     "output_type": "stream",
     "text": [
      "Loading required package: Matrix\n",
      "\n",
      "Loading required package: mvtnorm\n",
      "\n",
      "Loading required package: survival\n",
      "\n",
      "Loading required package: TH.data\n",
      "\n",
      "\n",
      "Attaching package: 'TH.data'\n",
      "\n",
      "\n",
      "The following object is masked from 'package:MASS':\n",
      "\n",
      "    geyser\n",
      "\n",
      "\n",
      "## FSA v0.9.4. See citation('FSA') if used in publication.\n",
      "## Run fishR() for related website and fishR('IFAR') for related book.\n",
      "\n",
      "\n",
      "Attaching package: 'FSA'\n",
      "\n",
      "\n",
      "The following object is masked from 'package:plyr':\n",
      "\n",
      "    mapvalues\n",
      "\n",
      "\n",
      "Loading required package: carData\n",
      "\n",
      "Registered S3 methods overwritten by 'car':\n",
      "  method       from\n",
      "  hist.boot    FSA \n",
      "  confint.boot FSA \n",
      "\n",
      "\n",
      "Attaching package: 'car'\n",
      "\n",
      "\n",
      "The following object is masked from 'package:FSA':\n",
      "\n",
      "    bootCase\n",
      "\n",
      "\n"
     ]
    }
   ],
   "source": [
    "library(lme4)\n",
    "library(MASS)\n",
    "library(plyr) \n",
    "library(knitr)\n",
    "library(multcomp)\n",
    "library(FSA)\n",
    "library(car)\n",
    "library(multcomp)\n",
    "# library(PMCMRplus)\n",
    "# library(PMCMR)\n",
    "# library(rcompanion)\n",
    "# library(glmmTMB)"
   ]
  },
  {
   "cell_type": "code",
   "execution_count": 2,
   "id": "45e17b45",
   "metadata": {},
   "outputs": [],
   "source": [
    "file_path = 'combined_data_5_20_data_analysis.csv'\n",
    "data <- read.csv(file_path)"
   ]
  },
  {
   "cell_type": "code",
   "execution_count": 3,
   "id": "9b8eac80",
   "metadata": {},
   "outputs": [],
   "source": [
    "print.model.summary <- function(model){\n",
    "    print('***********Coefficients of model*******************')\n",
    "    print(summary(model)$coef)\n",
    "    print('***************************************************')\n",
    "}"
   ]
  },
  {
   "cell_type": "code",
   "execution_count": 4,
   "id": "192cca59",
   "metadata": {},
   "outputs": [],
   "source": [
    "print.anova_stats <- function(model, data, p_val){\n",
    "    stats = anova(model)\n",
    "    df_total <- length(data$Id)\n",
    "    df_vec <- stats$npar\n",
    "    print(stats)\n",
    "    f_vec <- stats$\"F value\"\n",
    "    for (i in 1:length(df_vec)) {\n",
    "      p <- pf(f_vec[i], df_vec[i], df_total-df_vec[i], lower.tail = FALSE, log.p = FALSE)\n",
    "      if(p < p_val){\n",
    "        (message(rownames(stats)[i],\":  F(\",df_vec[i],\",\",df_total,\")=\",f_vec[i],\"     p = \",p))\n",
    "          }\n",
    "\n",
    "    }\n",
    "}"
   ]
  },
  {
   "cell_type": "code",
   "execution_count": 5,
   "id": "1942469d",
   "metadata": {},
   "outputs": [],
   "source": [
    "#+++++++++++++++++++++++++\n",
    "# Function to calculate the mean and the standard deviation\n",
    "  # for each group\n",
    "#+++++++++++++++++++++++++\n",
    "# data : a data frame\n",
    "# varname : the name of a column containing the variable\n",
    "  #to be summariezed\n",
    "# groupnames : vector of column names to be used as\n",
    "  # grouping variables\n",
    "data_summary <- function(data, varname, groupnames){\n",
    "  require(plyr)\n",
    "  summary_func <- function(x, col){\n",
    "    c(mean = mean(x[[col]], na.rm=TRUE),\n",
    "      sd = sd(x[[col]], na.rm=TRUE)/sqrt(length(data)))\n",
    "  }\n",
    "  data_sum<-ddply(data, groupnames, .fun=summary_func,\n",
    "                  varname)\n",
    "  data_sum <- rename(data_sum, c(\"mean\" = varname))\n",
    " return(data_sum)\n",
    "}"
   ]
  },
  {
   "cell_type": "markdown",
   "id": "e079ecd3",
   "metadata": {},
   "source": [
    "## Performance"
   ]
  },
  {
   "cell_type": "markdown",
   "id": "c72905ce",
   "metadata": {},
   "source": [
    "### 1. Score or Total Reward"
   ]
  },
  {
   "cell_type": "code",
   "execution_count": 6,
   "id": "77d55840",
   "metadata": {},
   "outputs": [
    {
     "data": {
      "text/plain": [
       "\n",
       "\tShapiro-Wilk normality test\n",
       "\n",
       "data:  residuals(m)\n",
       "W = 0.97211, p-value = 2.016e-05\n"
      ]
     },
     "metadata": {},
     "output_type": "display_data"
    },
    {
     "name": "stdout",
     "output_type": "stream",
     "text": [
      "Analysis of Variance Table\n",
      "                                     npar Sum Sq Mean Sq F value\n",
      "factor(data$condition_n_explanation)    4 101035 25258.8 19.7664\n",
      "data$round                              1    362   362.0  0.2833\n",
      "factor(data$gender)                     1   2036  2036.4  1.5936\n",
      "data$age                                1    550   550.4  0.4307\n",
      "data$experience                         1     13    12.7  0.0099\n",
      "data$extraversion                       1   6546  6545.7  5.1223\n",
      "data$agreeableness                      1    293   292.6  0.2290\n",
      "data$conscientiousness                  1   3306  3305.6  2.5868\n",
      "data$neuroticism                        1   3326  3325.5  2.6024\n",
      "data$intellect                          1   1674  1674.2  1.3102\n"
     ]
    },
    {
     "name": "stderr",
     "output_type": "stream",
     "text": [
      "factor(data$condition_n_explanation):  F(4,290)=19.7663504411515     p = 2.21865136535073e-14\n",
      "\n",
      "data$extraversion:  F(1,290)=5.12233605425222     p = 0.0243615583089973\n",
      "\n"
     ]
    }
   ],
   "source": [
    "# rANOVA fails test assuptions\n",
    "m <- lmer(score ~ factor(data$condition_n_explanation) + data$round \n",
    "          + factor(data$gender) + data$age + data$experience\n",
    "          + data$extraversion + data$agreeableness + data$conscientiousness + data$neuroticism + data$intellect \n",
    "          + (1|data$Id), data)\n",
    "\n",
    "# # Test for model assumptions\n",
    "shapiro.test(residuals(m))  # p value should be greater than 0.05 to satisfy normality assumptions\n",
    "# leveneTest(data$trust ~ factor(data$condition_n_explanation) * factor(data$round))  # p value should be greater than 0.05 to satisfy homoscedasticity assumptions (only use categorical variables)\n",
    "\n",
    "# print(Anova(m))\n",
    "print.anova_stats(m, data, 0.05)"
   ]
  },
  {
   "cell_type": "code",
   "execution_count": 7,
   "id": "f92e2ce8",
   "metadata": {
    "scrolled": true
   },
   "outputs": [
    {
     "data": {
      "text/plain": [
       "\n",
       "\tKruskal-Wallis rank sum test\n",
       "\n",
       "data:  data$score by factor(data$condition_n_explanation)\n",
       "Kruskal-Wallis chi-squared = 58.159, df = 4, p-value = 7.066e-12\n"
      ]
     },
     "metadata": {},
     "output_type": "display_data"
    },
    {
     "data": {
      "text/plain": [
       "\n",
       "\tKruskal-Wallis rank sum test\n",
       "\n",
       "data:  data$score by data$round\n",
       "Kruskal-Wallis chi-squared = 0.059397, df = 1, p-value = 0.8075\n"
      ]
     },
     "metadata": {},
     "output_type": "display_data"
    },
    {
     "data": {
      "text/plain": [
       "\n",
       "\tKruskal-Wallis rank sum test\n",
       "\n",
       "data:  data$score by data$condition_n_round\n",
       "Kruskal-Wallis chi-squared = 61.52, df = 9, p-value = 6.824e-10\n"
      ]
     },
     "metadata": {},
     "output_type": "display_data"
    }
   ],
   "source": [
    "kruskal.test(data$score ~ factor(data$condition_n_explanation)) \n",
    "kruskal.test(data$score ~ data$round)\n",
    "kruskal.test(data$score ~ data$condition_n_round)"
   ]
  },
  {
   "cell_type": "code",
   "execution_count": 8,
   "id": "6cae2027",
   "metadata": {},
   "outputs": [
    {
     "name": "stderr",
     "output_type": "stream",
     "text": [
      "Dunn (1964) Kruskal-Wallis multiple comparison\n",
      "\n",
      "  p-values adjusted with the Holm method.\n",
      "\n",
      "\n"
     ]
    },
    {
     "data": {
      "text/plain": [
       "                                Comparison          Z      P.unadj        P.adj\n",
       "1              control - control_w_explain -0.6261877 5.311918e-01 5.311918e-01\n",
       "2                      control - interrupt  2.7616483 5.751040e-03 2.875520e-02\n",
       "3            control_w_explain - interrupt  3.3878359 7.044639e-04 4.931247e-03\n",
       "4            control - interrupt_w_explain  0.6394755 5.225137e-01 1.000000e+00\n",
       "5  control_w_explain - interrupt_w_explain  1.2656632 2.056337e-01 6.169011e-01\n",
       "6          interrupt - interrupt_w_explain -2.1221728 3.382323e-02 1.352929e-01\n",
       "7                   control - no_interrupt  6.0060867 1.900546e-09 1.710492e-08\n",
       "8         control_w_explain - no_interrupt  6.6322744 3.305534e-11 3.305534e-10\n",
       "9                 interrupt - no_interrupt  3.2444384 1.176825e-03 7.060948e-03\n",
       "10      interrupt_w_explain - no_interrupt  5.3666112 8.022975e-08 6.418380e-07"
      ]
     },
     "metadata": {},
     "output_type": "display_data"
    }
   ],
   "source": [
    "dunnTest(data$score, factor(data$condition_n_explanation))"
   ]
  },
  {
   "cell_type": "code",
   "execution_count": 9,
   "id": "75c04ca9",
   "metadata": {},
   "outputs": [
    {
     "name": "stdout",
     "output_type": "stream",
     "text": [
      "[1] 58.15909\n",
      "[1] 0.2012425\n"
     ]
    }
   ],
   "source": [
    "Hadj <- unname(kruskal.test(data$score ~ factor(data$condition_n_explanation))$statistic)\n",
    "n <- sum(table(data$score, factor(data$condition_n_explanation)))\n",
    "e2 <- Hadj*(n+1)/(n^2-1)\n",
    "print(Hadj)  # H-value (test statistic => chi-squared)\n",
    "print(e2)  # Effect Size"
   ]
  },
  {
   "cell_type": "markdown",
   "id": "03f7c93a",
   "metadata": {},
   "source": [
    "### 2. Extra Steps"
   ]
  },
  {
   "cell_type": "code",
   "execution_count": 10,
   "id": "66360b82",
   "metadata": {},
   "outputs": [
    {
     "data": {
      "text/plain": [
       "\n",
       "\tShapiro-Wilk normality test\n",
       "\n",
       "data:  residuals(m)\n",
       "W = 0.97548, p-value = 7.126e-05\n"
      ]
     },
     "metadata": {},
     "output_type": "display_data"
    },
    {
     "name": "stdout",
     "output_type": "stream",
     "text": [
      "Analysis of Variance Table\n",
      "                                     npar Sum Sq Mean Sq F value\n",
      "factor(data$condition_n_explanation)    4 33.317  8.3292 14.6585\n",
      "data$round                              1  1.410  1.4103  2.4820\n",
      "factor(data$gender)                     1  0.187  0.1866  0.3285\n",
      "data$age                                1  0.443  0.4430  0.7797\n",
      "data$experience                         1  0.063  0.0631  0.1111\n",
      "data$extraversion                       1  0.803  0.8031  1.4133\n",
      "data$agreeableness                      1  0.628  0.6277  1.1046\n",
      "data$conscientiousness                  1  1.169  1.1689  2.0571\n",
      "data$neuroticism                        1  0.806  0.8062  1.4188\n",
      "data$intellect                          1  1.199  1.1993  2.1107\n"
     ]
    },
    {
     "name": "stderr",
     "output_type": "stream",
     "text": [
      "factor(data$condition_n_explanation):  F(4,290)=14.6585212837656     p = 6.6334236632083e-11\n",
      "\n"
     ]
    }
   ],
   "source": [
    "# rANOVA fails test assuptions\n",
    "m <- lmer(extra_step ~ factor(data$condition_n_explanation) + data$round \n",
    "          + factor(data$gender) + data$age + data$experience\n",
    "          + data$extraversion + data$agreeableness + data$conscientiousness + data$neuroticism + data$intellect \n",
    "          + (1|data$Id), data)\n",
    "\n",
    "# # Test for model assumptions\n",
    "shapiro.test(residuals(m))  # p value should be greater than 0.05 to satisfy normality assumptions\n",
    "# leveneTest(data$trust ~ factor(data$condition_n_explanation) * factor(data$round))  # p value should be greater than 0.05 to satisfy homoscedasticity assumptions (only use categorical variables)\n",
    "\n",
    "# print(Anova(m))\n",
    "print.anova_stats(m, data, 0.05)"
   ]
  },
  {
   "cell_type": "code",
   "execution_count": 11,
   "id": "1c5c0910",
   "metadata": {},
   "outputs": [
    {
     "data": {
      "text/plain": [
       "\n",
       "\tKruskal-Wallis rank sum test\n",
       "\n",
       "data:  data$extra_step by factor(data$condition_n_explanation)\n",
       "Kruskal-Wallis chi-squared = 52.712, df = 4, p-value = 9.791e-11\n"
      ]
     },
     "metadata": {},
     "output_type": "display_data"
    },
    {
     "data": {
      "text/plain": [
       "\n",
       "\tKruskal-Wallis rank sum test\n",
       "\n",
       "data:  data$extra_step by data$round\n",
       "Kruskal-Wallis chi-squared = 1.3531, df = 1, p-value = 0.2447\n"
      ]
     },
     "metadata": {},
     "output_type": "display_data"
    },
    {
     "data": {
      "text/plain": [
       "\n",
       "\tKruskal-Wallis rank sum test\n",
       "\n",
       "data:  data$extra_step by data$condition_n_round\n",
       "Kruskal-Wallis chi-squared = 56.937, df = 9, p-value = 5.197e-09\n"
      ]
     },
     "metadata": {},
     "output_type": "display_data"
    }
   ],
   "source": [
    "kruskal.test(data$extra_step ~ factor(data$condition_n_explanation)) \n",
    "kruskal.test(data$extra_step ~ data$round)\n",
    "kruskal.test(data$extra_step ~ data$condition_n_round)"
   ]
  },
  {
   "cell_type": "code",
   "execution_count": 12,
   "id": "993e6ede",
   "metadata": {
    "scrolled": false
   },
   "outputs": [
    {
     "name": "stderr",
     "output_type": "stream",
     "text": [
      "Dunn (1964) Kruskal-Wallis multiple comparison\n",
      "\n",
      "  p-values adjusted with the Holm method.\n",
      "\n",
      "\n"
     ]
    },
    {
     "data": {
      "text/plain": [
       "                                Comparison          Z      P.unadj        P.adj\n",
       "1              control - control_w_explain  1.0308837 3.025954e-01 6.051907e-01\n",
       "2                      control - interrupt -4.3732280 1.224228e-05 8.569594e-05\n",
       "3            control_w_explain - interrupt -5.4041117 6.513036e-08 5.861732e-07\n",
       "4            control - interrupt_w_explain -2.3845414 1.710042e-02 8.550211e-02\n",
       "5  control_w_explain - interrupt_w_explain -3.4154252 6.368253e-04 3.820952e-03\n",
       "6          interrupt - interrupt_w_explain  1.9886865 4.673581e-02 1.402074e-01\n",
       "7                   control - no_interrupt -4.7258987 2.290998e-06 1.832799e-05\n",
       "8         control_w_explain - no_interrupt -5.7567824 8.573229e-09 8.573229e-08\n",
       "9                 interrupt - no_interrupt -0.3526707 7.243353e-01 7.243353e-01\n",
       "10      interrupt_w_explain - no_interrupt -2.3413573 1.921377e-02 7.685508e-02"
      ]
     },
     "metadata": {},
     "output_type": "display_data"
    }
   ],
   "source": [
    "dunnTest(data$extra_step, factor(data$condition_n_explanation))"
   ]
  },
  {
   "cell_type": "markdown",
   "id": "d19f4087",
   "metadata": {},
   "source": [
    "### 3. Fallling Number"
   ]
  },
  {
   "cell_type": "code",
   "execution_count": 13,
   "id": "de68c2ef",
   "metadata": {
    "scrolled": true
   },
   "outputs": [
    {
     "data": {
      "text/plain": [
       "\n",
       "\tKruskal-Wallis rank sum test\n",
       "\n",
       "data:  data$falling_num by factor(data$condition_n_explanation)\n",
       "Kruskal-Wallis chi-squared = 76.961, df = 4, p-value = 7.665e-16\n"
      ]
     },
     "metadata": {},
     "output_type": "display_data"
    },
    {
     "data": {
      "text/plain": [
       "\n",
       "\tKruskal-Wallis rank sum test\n",
       "\n",
       "data:  data$falling_num by data$round\n",
       "Kruskal-Wallis chi-squared = 0.33692, df = 1, p-value = 0.5616\n"
      ]
     },
     "metadata": {},
     "output_type": "display_data"
    },
    {
     "data": {
      "text/plain": [
       "\n",
       "\tKruskal-Wallis rank sum test\n",
       "\n",
       "data:  data$falling_num by data$condition_n_round\n",
       "Kruskal-Wallis chi-squared = 80.273, df = 9, p-value = 1.427e-13\n"
      ]
     },
     "metadata": {},
     "output_type": "display_data"
    }
   ],
   "source": [
    "kruskal.test(data$falling_num ~ factor(data$condition_n_explanation)) \n",
    "kruskal.test(data$falling_num ~ data$round)\n",
    "kruskal.test(data$falling_num ~ data$condition_n_round)"
   ]
  },
  {
   "cell_type": "code",
   "execution_count": 14,
   "id": "9f7ffd72",
   "metadata": {},
   "outputs": [
    {
     "name": "stderr",
     "output_type": "stream",
     "text": [
      "Dunn (1964) Kruskal-Wallis multiple comparison\n",
      "\n",
      "  p-values adjusted with the Holm method.\n",
      "\n",
      "\n"
     ]
    },
    {
     "data": {
      "text/plain": [
       "                                Comparison          Z      P.unadj        P.adj\n",
       "1              control - control_w_explain  0.2577293 7.966158e-01 7.966158e-01\n",
       "2                      control - interrupt -3.3841972 7.138671e-04 3.569336e-03\n",
       "3            control_w_explain - interrupt -3.6419265 2.706053e-04 1.623632e-03\n",
       "4            control - interrupt_w_explain -1.5720916 1.159293e-01 2.318586e-01\n",
       "5  control_w_explain - interrupt_w_explain -1.8298209 6.727672e-02 2.691069e-01\n",
       "6          interrupt - interrupt_w_explain  1.8121056 6.996988e-02 2.099096e-01\n",
       "7                   control - no_interrupt -7.2992825 2.893064e-13 2.603758e-12\n",
       "8         control_w_explain - no_interrupt -7.5570118 4.124347e-14 4.124347e-13\n",
       "9                 interrupt - no_interrupt -3.9150853 9.037226e-05 6.326058e-04\n",
       "10      interrupt_w_explain - no_interrupt -5.7271909 1.021073e-08 8.168582e-08"
      ]
     },
     "metadata": {},
     "output_type": "display_data"
    }
   ],
   "source": [
    "dunnTest(data$falling_num, factor(data$condition_n_explanation))"
   ]
  },
  {
   "cell_type": "markdown",
   "id": "24859b70",
   "metadata": {},
   "source": [
    "### 4. Detection Number (averaged across both rounds)"
   ]
  },
  {
   "cell_type": "code",
   "execution_count": 15,
   "id": "b1269164",
   "metadata": {},
   "outputs": [
    {
     "data": {
      "text/plain": [
       "\n",
       "\tKruskal-Wallis rank sum test\n",
       "\n",
       "data:  data$detection_num by factor(data$condition_n_explanation)\n",
       "Kruskal-Wallis chi-squared = 11.822, df = 4, p-value = 0.01873\n"
      ]
     },
     "metadata": {},
     "output_type": "display_data"
    },
    {
     "data": {
      "text/plain": [
       "\n",
       "\tKruskal-Wallis rank sum test\n",
       "\n",
       "data:  data$detection_num by data$round\n",
       "Kruskal-Wallis chi-squared = 0.0042673, df = 1, p-value = 0.9479\n"
      ]
     },
     "metadata": {},
     "output_type": "display_data"
    },
    {
     "data": {
      "text/plain": [
       "\n",
       "\tKruskal-Wallis rank sum test\n",
       "\n",
       "data:  data$detection_num by data$condition_n_round\n",
       "Kruskal-Wallis chi-squared = 12.623, df = 9, p-value = 0.1804\n"
      ]
     },
     "metadata": {},
     "output_type": "display_data"
    }
   ],
   "source": [
    "kruskal.test(data$detection_num ~ factor(data$condition_n_explanation)) \n",
    "kruskal.test(data$detection_num ~ data$round)\n",
    "kruskal.test(data$detection_num ~ data$condition_n_round)"
   ]
  },
  {
   "cell_type": "code",
   "execution_count": 16,
   "id": "e0b4376d",
   "metadata": {},
   "outputs": [
    {
     "name": "stderr",
     "output_type": "stream",
     "text": [
      "Dunn (1964) Kruskal-Wallis multiple comparison\n",
      "\n",
      "  p-values adjusted with the Holm method.\n",
      "\n",
      "\n"
     ]
    },
    {
     "data": {
      "text/plain": [
       "                                Comparison           Z     P.unadj      P.adj\n",
       "1              control - control_w_explain -0.04442458 0.964565966 0.96456597\n",
       "2                      control - interrupt -2.18513422 0.028879007 0.23103205\n",
       "3            control_w_explain - interrupt -2.14070964 0.032297461 0.22608223\n",
       "4            control - interrupt_w_explain -1.71923140 0.085572246 0.51343347\n",
       "5  control_w_explain - interrupt_w_explain -1.67480681 0.093972142 0.46986071\n",
       "6          interrupt - interrupt_w_explain  0.46590282 0.641285060 1.00000000\n",
       "7                   control - no_interrupt -2.59828285 0.009369128 0.09369128\n",
       "8         control_w_explain - no_interrupt -2.55385827 0.010653661 0.09588295\n",
       "9                 interrupt - no_interrupt -0.41314863 0.679497722 1.00000000\n",
       "10      interrupt_w_explain - no_interrupt -0.87905145 0.379373378 1.00000000"
      ]
     },
     "metadata": {},
     "output_type": "display_data"
    }
   ],
   "source": [
    "dunnTest(data$detection_num, factor(data$condition_n_explanation))"
   ]
  },
  {
   "cell_type": "markdown",
   "id": "1ce30bd0",
   "metadata": {},
   "source": [
    "### 5. Interruption Number"
   ]
  },
  {
   "cell_type": "code",
   "execution_count": 17,
   "id": "16fcc2e5",
   "metadata": {},
   "outputs": [
    {
     "data": {
      "text/plain": [
       "\n",
       "\tKruskal-Wallis rank sum test\n",
       "\n",
       "data:  data$slippery_interruption_num_fog by factor(data$condition_n_explanation)\n",
       "Kruskal-Wallis chi-squared = 122.46, df = 4, p-value < 2.2e-16\n"
      ]
     },
     "metadata": {},
     "output_type": "display_data"
    },
    {
     "data": {
      "text/plain": [
       "\n",
       "\tKruskal-Wallis rank sum test\n",
       "\n",
       "data:  data$interruption_num_fog by data$extra_step\n",
       "Kruskal-Wallis chi-squared = 229.53, df = 180, p-value = 0.007392\n"
      ]
     },
     "metadata": {},
     "output_type": "display_data"
    },
    {
     "data": {
      "text/plain": [
       "\n",
       "\tKruskal-Wallis rank sum test\n",
       "\n",
       "data:  data$slippery_interruption_num_fog by data$condition_n_round\n",
       "Kruskal-Wallis chi-squared = 130, df = 9, p-value < 2.2e-16\n"
      ]
     },
     "metadata": {},
     "output_type": "display_data"
    },
    {
     "data": {
      "text/plain": [
       "\n",
       "\tKruskal-Wallis rank sum test\n",
       "\n",
       "data:  data$slippery_interruption_num_non_fog by factor(data$condition_n_explanation)\n",
       "Kruskal-Wallis chi-squared = 125.32, df = 4, p-value < 2.2e-16\n"
      ]
     },
     "metadata": {},
     "output_type": "display_data"
    },
    {
     "data": {
      "text/plain": [
       "\n",
       "\tKruskal-Wallis rank sum test\n",
       "\n",
       "data:  data$slippery_interruption_num_non_fog by data$round\n",
       "Kruskal-Wallis chi-squared = 0.84537, df = 1, p-value = 0.3579\n"
      ]
     },
     "metadata": {},
     "output_type": "display_data"
    },
    {
     "data": {
      "text/plain": [
       "\n",
       "\tKruskal-Wallis rank sum test\n",
       "\n",
       "data:  data$slippery_interruption_num_non_fog by data$condition_n_round\n",
       "Kruskal-Wallis chi-squared = 127.4, df = 9, p-value < 2.2e-16\n"
      ]
     },
     "metadata": {},
     "output_type": "display_data"
    }
   ],
   "source": [
    "kruskal.test(data$slippery_interruption_num_fog ~ factor(data$condition_n_explanation)) \n",
    "kruskal.test(data$interruption_num_fog ~ data$extra_step)\n",
    "kruskal.test(data$slippery_interruption_num_fog ~ data$condition_n_round)\n",
    "kruskal.test(data$slippery_interruption_num_non_fog ~ factor(data$condition_n_explanation)) \n",
    "kruskal.test(data$slippery_interruption_num_non_fog ~ data$round)\n",
    "kruskal.test(data$slippery_interruption_num_non_fog ~ data$condition_n_round)"
   ]
  },
  {
   "cell_type": "markdown",
   "id": "86c69772",
   "metadata": {},
   "source": [
    "## Subjective Metrics"
   ]
  },
  {
   "cell_type": "markdown",
   "id": "b62068ce",
   "metadata": {},
   "source": [
    "### 1. User Preference"
   ]
  },
  {
   "cell_type": "code",
   "execution_count": 18,
   "id": "31f5dbd7",
   "metadata": {},
   "outputs": [],
   "source": [
    "rank_data <- read.csv(\"rank_data_user_study_1.csv\")"
   ]
  },
  {
   "cell_type": "code",
   "execution_count": 19,
   "id": "82421e99",
   "metadata": {},
   "outputs": [
    {
     "data": {
      "text/plain": [
       "\n",
       "\tKruskal-Wallis rank sum test\n",
       "\n",
       "data:  rank_data$rank by factor(rank_data$condition_n_explanation)\n",
       "Kruskal-Wallis chi-squared = 61.675, df = 4, p-value = 1.289e-12\n"
      ]
     },
     "metadata": {},
     "output_type": "display_data"
    }
   ],
   "source": [
    "kruskal.test(rank_data$rank ~ factor(rank_data$condition_n_explanation)) "
   ]
  },
  {
   "cell_type": "code",
   "execution_count": 20,
   "id": "ba106b6c",
   "metadata": {
    "scrolled": true
   },
   "outputs": [
    {
     "name": "stderr",
     "output_type": "stream",
     "text": [
      "Dunn (1964) Kruskal-Wallis multiple comparison\n",
      "\n",
      "  p-values adjusted with the Holm method.\n",
      "\n",
      "\n"
     ]
    },
    {
     "data": {
      "text/plain": [
       "                                Comparison          Z      P.unadj        P.adj\n",
       "1              control - control_w_explain -4.1637128 3.131139e-05 2.504912e-04\n",
       "2                      control - interrupt -3.3309702 8.654386e-04 5.192631e-03\n",
       "3            control_w_explain - interrupt  0.8327426 4.049899e-01 4.049899e-01\n",
       "4            control - interrupt_w_explain -7.4021561 1.339909e-13 1.339909e-12\n",
       "5  control_w_explain - interrupt_w_explain -3.2384433 1.201839e-03 6.009196e-03\n",
       "6          interrupt - interrupt_w_explain -4.0711858 4.677441e-05 3.274209e-04\n",
       "7                   control - no_interrupt -1.7580121 7.874546e-02 2.362364e-01\n",
       "8         control_w_explain - no_interrupt  2.4057007 1.614148e-02 6.456593e-02\n",
       "9                 interrupt - no_interrupt  1.5729582 1.157285e-01 2.314570e-01\n",
       "10      interrupt_w_explain - no_interrupt  5.6441440 1.660051e-08 1.494046e-07"
      ]
     },
     "metadata": {},
     "output_type": "display_data"
    }
   ],
   "source": [
    "dunnTest(rank_data$rank, factor(rank_data$condition_n_explanation))"
   ]
  },
  {
   "cell_type": "code",
   "execution_count": 21,
   "id": "db315fd2",
   "metadata": {},
   "outputs": [
    {
     "name": "stdout",
     "output_type": "stream",
     "text": [
      "[1] 61.67515\n",
      "[1] 0.4282996\n"
     ]
    }
   ],
   "source": [
    "Hadj <- unname(kruskal.test(rank_data$rank ~ factor(rank_data$condition_n_explanation))$statistic)\n",
    "n <- sum(table(rank_data$rank, factor(rank_data$condition_n_explanation)))\n",
    "e2 <- Hadj*(n+1)/(n^2-1)\n",
    "print(Hadj)  # H-value (test statistic => chi-squared)\n",
    "print(e2)  # Effect Size"
   ]
  },
  {
   "cell_type": "markdown",
   "id": "e6acb59d",
   "metadata": {},
   "source": [
    "### 2. Trust"
   ]
  },
  {
   "cell_type": "code",
   "execution_count": 22,
   "id": "09151cf1",
   "metadata": {},
   "outputs": [
    {
     "data": {
      "text/plain": [
       "\n",
       "\tShapiro-Wilk normality test\n",
       "\n",
       "data:  residuals(m)\n",
       "W = 0.99049, p-value = 0.05666\n"
      ]
     },
     "metadata": {},
     "output_type": "display_data"
    },
    {
     "name": "stdout",
     "output_type": "stream",
     "text": [
      "Levene's Test for Homogeneity of Variance (center = median)\n",
      "       Df F value Pr(>F)\n",
      "group  19  0.4518 0.9779\n",
      "      270               \n",
      "Analysis of Variance Table\n",
      "                                     npar  Sum Sq Mean Sq F value\n",
      "factor(data$condition_n_explanation)    4 201.531  50.383  4.6167\n",
      "factor(data$round)                      1   1.521   1.521  0.1393\n",
      "factor(data$gender)                     1  19.107  19.107  1.7508\n",
      "data$age                                1  25.355  25.355  2.3234\n",
      "data$experience                         1  11.642  11.642  1.0668\n",
      "data$extraversion                       1  66.396  66.396  6.0841\n",
      "data$agreeableness                      1  47.869  47.869  4.3863\n",
      "data$conscientiousness                  1  27.075  27.075  2.4809\n",
      "data$neuroticism                        1   6.567   6.567  0.6018\n",
      "data$intellect                          1  19.350  19.350  1.7731\n",
      "data$detection_num                      1  63.473  63.473  5.8162\n",
      "data$reject_num                         1  18.384  18.384  1.6845\n",
      "data$falling_num                        1  37.816  37.816  3.4652\n",
      "data$total_interruption_num             1   7.995   7.995  0.7326\n"
     ]
    },
    {
     "name": "stderr",
     "output_type": "stream",
     "text": [
      "factor(data$condition_n_explanation):  F(4,290)=4.61671758811399     p = 0.00125804347404986\n",
      "\n",
      "data$extraversion:  F(1,290)=6.08409200862896     p = 0.0142206321690392\n",
      "\n",
      "data$agreeableness:  F(1,290)=4.38633305641969     p = 0.0370989562418996\n",
      "\n",
      "data$detection_num:  F(1,290)=5.81618861979635     p = 0.016502754734081\n",
      "\n"
     ]
    }
   ],
   "source": [
    "m <- lmer(data$trust ~ factor(data$condition_n_explanation) + factor(data$round)\n",
    "          + factor(data$gender) + data$age + data$experience\n",
    "          + data$extraversion + data$agreeableness + data$conscientiousness + data$neuroticism + data$intellect \n",
    "          + data$detection_num + data$reject_num + data$falling_num + data$total_interruption_num + (1|data$Id), data) \n",
    "shapiro.test(residuals(m))\n",
    "print(leveneTest(data$trust ~ factor(data$condition_n_explanation) * factor(data$round) * factor(data$gender)))\n",
    "print.anova_stats(m, data, 0.05)"
   ]
  },
  {
   "cell_type": "code",
   "execution_count": 23,
   "id": "6ca0281a",
   "metadata": {},
   "outputs": [
    {
     "data": {
      "text/plain": [
       "\n",
       "\t Simultaneous Tests for General Linear Hypotheses\n",
       "\n",
       "Multiple Comparisons of Means: Tukey Contrasts\n",
       "\n",
       "\n",
       "Fit: lmer(formula = data$trust ~ factor(data$condition_n_explanation) + \n",
       "    factor(data$round) + factor(data$gender) + data$age + data$experience + \n",
       "    data$extraversion + data$agreeableness + data$conscientiousness + \n",
       "    data$neuroticism + data$intellect + data$detection_num + \n",
       "    data$reject_num + data$falling_num + data$total_interruption_num + \n",
       "    (1 | data$Id), data = data)\n",
       "\n",
       "Linear Hypotheses:\n",
       "                                             Estimate Std. Error z value\n",
       "control_w_explain - control == 0              0.27549    0.61436   0.448\n",
       "interrupt - control == 0                      0.78461    0.64912   1.209\n",
       "interrupt_w_explain - control == 0            1.58127    0.64789   2.441\n",
       "no_interrupt - control == 0                  -0.01384    1.01340  -0.014\n",
       "interrupt - control_w_explain == 0            0.50913    0.64721   0.787\n",
       "interrupt_w_explain - control_w_explain == 0  1.30578    0.64148   2.036\n",
       "no_interrupt - control_w_explain == 0        -0.28933    1.01373  -0.285\n",
       "interrupt_w_explain - interrupt == 0          0.79666    0.62225   1.280\n",
       "no_interrupt - interrupt == 0                -0.79846    0.96992  -0.823\n",
       "no_interrupt - interrupt_w_explain == 0      -1.59511    0.99085  -1.610\n",
       "                                             Pr(>|z|)  \n",
       "control_w_explain - control == 0               0.9913  \n",
       "interrupt - control == 0                       0.7385  \n",
       "interrupt_w_explain - control == 0             0.0997 .\n",
       "no_interrupt - control == 0                    1.0000  \n",
       "interrupt - control_w_explain == 0             0.9319  \n",
       "interrupt_w_explain - control_w_explain == 0   0.2403  \n",
       "no_interrupt - control_w_explain == 0          0.9985  \n",
       "interrupt_w_explain - interrupt == 0           0.6948  \n",
       "no_interrupt - interrupt == 0                  0.9205  \n",
       "no_interrupt - interrupt_w_explain == 0        0.4804  \n",
       "---\n",
       "Signif. codes:  0 '***' 0.001 '**' 0.01 '*' 0.05 '.' 0.1 ' ' 1\n",
       "(Adjusted p values reported -- single-step method)\n"
      ]
     },
     "metadata": {},
     "output_type": "display_data"
    }
   ],
   "source": [
    "summary(glht(m, linfct=mcp(\"factor(data$condition_n_explanation)\"=\"Tukey\")))"
   ]
  },
  {
   "cell_type": "markdown",
   "id": "5a63334e",
   "metadata": {},
   "source": [
    "### 3. Willingness"
   ]
  },
  {
   "cell_type": "code",
   "execution_count": 24,
   "id": "f7dcea73",
   "metadata": {},
   "outputs": [
    {
     "data": {
      "text/plain": [
       "\n",
       "\tShapiro-Wilk normality test\n",
       "\n",
       "data:  residuals(m)\n",
       "W = 0.99234, p-value = 0.1408\n"
      ]
     },
     "metadata": {},
     "output_type": "display_data"
    },
    {
     "name": "stdout",
     "output_type": "stream",
     "text": [
      "Levene's Test for Homogeneity of Variance (center = median)\n",
      "       Df F value Pr(>F)\n",
      "group  19  0.7013 0.8168\n",
      "      270               \n",
      "Analysis of Variance Table\n",
      "                                     npar Sum Sq Mean Sq F value\n",
      "factor(data$condition_n_explanation)    4 715.36 178.840 24.8231\n",
      "factor(data$round)                      1   0.12   0.124  0.0172\n",
      "factor(data$gender)                     1   0.10   0.101  0.0140\n",
      "data$age                                1   0.82   0.816  0.1133\n",
      "data$experience                         1   9.91   9.909  1.3753\n",
      "data$extraversion                       1   3.35   3.348  0.4647\n",
      "data$agreeableness                      1   9.60   9.600  1.3324\n",
      "data$conscientiousness                  1   4.73   4.730  0.6565\n",
      "data$neuroticism                        1   4.99   4.989  0.6925\n",
      "data$intellect                          1   3.30   3.304  0.4586\n",
      "data$detection_num                      1  14.57  14.568  2.0221\n",
      "data$reject_num                         1  11.44  11.437  1.5874\n",
      "data$falling_num                        1   2.38   2.377  0.3299\n",
      "data$total_interruption_num             1   1.30   1.298  0.1802\n"
     ]
    },
    {
     "name": "stderr",
     "output_type": "stream",
     "text": [
      "factor(data$condition_n_explanation):  F(4,290)=24.8230750475945     p = 1.17601967520786e-17\n",
      "\n"
     ]
    }
   ],
   "source": [
    "m <- lmer(data$willingness ~ factor(data$condition_n_explanation) + factor(data$round)\n",
    "          + factor(data$gender) + data$age + data$experience\n",
    "          + data$extraversion + data$agreeableness + data$conscientiousness + data$neuroticism + data$intellect \n",
    "          + data$detection_num + data$reject_num + data$falling_num + data$total_interruption_num + (1|data$Id), data) \n",
    "shapiro.test(residuals(m))\n",
    "print(leveneTest(data$willingness ~ factor(data$condition_n_explanation) * factor(data$round) * factor(data$gender)))\n",
    "print.anova_stats(m, data, 0.05)"
   ]
  },
  {
   "cell_type": "code",
   "execution_count": 25,
   "id": "a0febe72",
   "metadata": {},
   "outputs": [
    {
     "data": {
      "text/plain": [
       "\n",
       "\t Simultaneous Tests for General Linear Hypotheses\n",
       "\n",
       "Multiple Comparisons of Means: Tukey Contrasts\n",
       "\n",
       "\n",
       "Fit: lmer(formula = data$willingness ~ factor(data$condition_n_explanation) + \n",
       "    factor(data$round) + factor(data$gender) + data$age + data$experience + \n",
       "    data$extraversion + data$agreeableness + data$conscientiousness + \n",
       "    data$neuroticism + data$intellect + data$detection_num + \n",
       "    data$reject_num + data$falling_num + data$total_interruption_num + \n",
       "    (1 | data$Id), data = data)\n",
       "\n",
       "Linear Hypotheses:\n",
       "                                             Estimate Std. Error z value\n",
       "control_w_explain - control == 0               1.2670     0.4992   2.538\n",
       "interrupt - control == 0                       0.9411     0.5298   1.777\n",
       "interrupt_w_explain - control == 0             2.6791     0.5284   5.070\n",
       "no_interrupt - control == 0                   -2.3064     0.8307  -2.776\n",
       "interrupt - control_w_explain == 0            -0.3259     0.5279  -0.617\n",
       "interrupt_w_explain - control_w_explain == 0   1.4121     0.5228   2.701\n",
       "no_interrupt - control_w_explain == 0         -3.5734     0.8305  -4.303\n",
       "interrupt_w_explain - interrupt == 0           1.7380     0.5059   3.436\n",
       "no_interrupt - interrupt == 0                 -3.2475     0.7940  -4.090\n",
       "no_interrupt - interrupt_w_explain == 0       -4.9855     0.8108  -6.149\n",
       "                                             Pr(>|z|)    \n",
       "control_w_explain - control == 0              0.07832 .  \n",
       "interrupt - control == 0                      0.37686    \n",
       "interrupt_w_explain - control == 0            < 0.001 ***\n",
       "no_interrupt - control == 0                   0.04129 *  \n",
       "interrupt - control_w_explain == 0            0.97116    \n",
       "interrupt_w_explain - control_w_explain == 0  0.05111 .  \n",
       "no_interrupt - control_w_explain == 0         < 0.001 ***\n",
       "interrupt_w_explain - interrupt == 0          0.00504 ** \n",
       "no_interrupt - interrupt == 0                 < 0.001 ***\n",
       "no_interrupt - interrupt_w_explain == 0       < 0.001 ***\n",
       "---\n",
       "Signif. codes:  0 '***' 0.001 '**' 0.01 '*' 0.05 '.' 0.1 ' ' 1\n",
       "(Adjusted p values reported -- single-step method)\n"
      ]
     },
     "metadata": {},
     "output_type": "display_data"
    }
   ],
   "source": [
    "summary(glht(m, linfct=mcp(\"factor(data$condition_n_explanation)\"=\"Tukey\")))"
   ]
  },
  {
   "cell_type": "markdown",
   "id": "2ad812d0",
   "metadata": {},
   "source": [
    "### 4. Robot Likeability"
   ]
  },
  {
   "cell_type": "code",
   "execution_count": 26,
   "id": "d52ca8a3",
   "metadata": {
    "scrolled": true
   },
   "outputs": [
    {
     "data": {
      "text/plain": [
       "\n",
       "\tShapiro-Wilk normality test\n",
       "\n",
       "data:  residuals(m)\n",
       "W = 0.98968, p-value = 0.03781\n"
      ]
     },
     "metadata": {},
     "output_type": "display_data"
    },
    {
     "name": "stdout",
     "output_type": "stream",
     "text": [
      "Levene's Test for Homogeneity of Variance (center = median)\n",
      "       Df F value  Pr(>F)  \n",
      "group  19   1.628 0.04941 *\n",
      "      270                  \n",
      "---\n",
      "Signif. codes:  0 '***' 0.001 '**' 0.01 '*' 0.05 '.' 0.1 ' ' 1\n",
      "Analysis of Variance Table\n",
      "                                     npar Sum Sq Mean Sq F value\n",
      "factor(data$condition_n_explanation)    4 397.38  99.345 11.0394\n",
      "factor(data$round)                      1   6.08   6.083  0.6759\n",
      "factor(data$gender)                     1   9.13   9.131  1.0147\n",
      "data$age                                1   3.16   3.162  0.3514\n",
      "data$experience                         1   0.02   0.016  0.0018\n",
      "data$extraversion                       1  41.50  41.502  4.6118\n",
      "data$agreeableness                      1   3.49   3.493  0.3881\n",
      "data$conscientiousness                  1   1.92   1.919  0.2133\n",
      "data$neuroticism                        1   0.05   0.053  0.0059\n",
      "data$intellect                          1   1.16   1.164  0.1294\n",
      "data$detection_num                      1  17.99  17.994  1.9995\n",
      "data$reject_num                         1  13.37  13.368  1.4854\n",
      "data$falling_num                        1  47.54  47.536  5.2823\n",
      "data$total_interruption_num             1   0.10   0.103  0.0115\n"
     ]
    },
    {
     "name": "stderr",
     "output_type": "stream",
     "text": [
      "factor(data$condition_n_explanation):  F(4,290)=11.0394327906997     p = 2.43740164420129e-08\n",
      "\n",
      "data$extraversion:  F(1,290)=4.6117794161739     p = 0.0325846359955802\n",
      "\n",
      "data$falling_num:  F(1,290)=5.28231221322819     p = 0.0222569866282495\n",
      "\n"
     ]
    }
   ],
   "source": [
    "# Fails normality and homoscedasticity assumptions\n",
    "m <- lmer(data$likeability ~ factor(data$condition_n_explanation) + factor(data$round) \n",
    "          + factor(data$gender) + data$age + data$experience\n",
    "          + data$extraversion + data$agreeableness + data$conscientiousness + data$neuroticism + data$intellect \n",
    "          + data$detection_num + data$reject_num + data$falling_num + data$total_interruption_num + (1|data$Id), data)\n",
    "shapiro.test(residuals(m))\n",
    "print(leveneTest(data$likeability ~ factor(data$condition_n_explanation) * factor(data$round) * factor(data$gender)))\n",
    "print.anova_stats(m, data, 0.05)"
   ]
  },
  {
   "cell_type": "code",
   "execution_count": 27,
   "id": "f683a379",
   "metadata": {},
   "outputs": [
    {
     "data": {
      "text/plain": [
       "\n",
       "\tKruskal-Wallis rank sum test\n",
       "\n",
       "data:  data$likeability by factor(data$condition_n_explanation)\n",
       "Kruskal-Wallis chi-squared = 28.58, df = 4, p-value = 9.515e-06\n"
      ]
     },
     "metadata": {},
     "output_type": "display_data"
    }
   ],
   "source": [
    "kruskal.test(data$likeability ~ factor(data$condition_n_explanation)) "
   ]
  },
  {
   "cell_type": "code",
   "execution_count": 28,
   "id": "f5915318",
   "metadata": {
    "scrolled": true
   },
   "outputs": [
    {
     "name": "stderr",
     "output_type": "stream",
     "text": [
      "Dunn (1964) Kruskal-Wallis multiple comparison\n",
      "\n",
      "  p-values adjusted with the Holm method.\n",
      "\n",
      "\n"
     ]
    },
    {
     "data": {
      "text/plain": [
       "                                Comparison          Z      P.unadj        P.adj\n",
       "1              control - control_w_explain -1.6518791 9.855920e-02 3.942368e-01\n",
       "2                      control - interrupt -0.7466560 4.552712e-01 4.552712e-01\n",
       "3            control_w_explain - interrupt  0.9052231 3.653472e-01 7.306944e-01\n",
       "4            control - interrupt_w_explain -3.7616553 1.687925e-04 1.519133e-03\n",
       "5  control_w_explain - interrupt_w_explain -2.1097762 3.487764e-02 2.092658e-01\n",
       "6          interrupt - interrupt_w_explain -3.0149993 2.569798e-03 2.055839e-02\n",
       "7                   control - no_interrupt  1.2752128 2.022339e-01 6.067018e-01\n",
       "8         control_w_explain - no_interrupt  2.9270920 3.421477e-03 2.395034e-02\n",
       "9                 interrupt - no_interrupt  2.0218689 4.318990e-02 2.159495e-01\n",
       "10      interrupt_w_explain - no_interrupt  5.0368682 4.732104e-07 4.732104e-06"
      ]
     },
     "metadata": {},
     "output_type": "display_data"
    }
   ],
   "source": [
    "dunnTest(data$likeability, factor(data$condition_n_explanation))"
   ]
  },
  {
   "cell_type": "code",
   "execution_count": 29,
   "id": "923629de",
   "metadata": {},
   "outputs": [
    {
     "name": "stdout",
     "output_type": "stream",
     "text": [
      "[1] 28.57963\n",
      "[1] 0.09889147\n"
     ]
    }
   ],
   "source": [
    "Hadj <- unname(kruskal.test(data$likeability ~ factor(data$condition_n_explanation))$statistic)\n",
    "n <- sum(table(data$likeability, factor(data$condition_n_explanation)))\n",
    "e2 <- Hadj*(n+1)/(n^2-1)\n",
    "print(Hadj)  # H-value (test statistic => chi-squared)\n",
    "print(e2)  # Effect Size"
   ]
  },
  {
   "cell_type": "code",
   "execution_count": null,
   "id": "164198c4",
   "metadata": {},
   "outputs": [],
   "source": []
  }
 ],
 "metadata": {
  "kernelspec": {
   "display_name": "R",
   "language": "R",
   "name": "ir"
  },
  "language_info": {
   "codemirror_mode": "r",
   "file_extension": ".r",
   "mimetype": "text/x-r-source",
   "name": "R",
   "pygments_lexer": "r",
   "version": "4.1.3"
  }
 },
 "nbformat": 4,
 "nbformat_minor": 5
}
